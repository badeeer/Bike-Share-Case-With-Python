{
  "cells": [
    {
      "cell_type": "markdown",
      "metadata": {
        "id": "Q_UGti_7Qkrd"
      },
      "source": [
        "Case Study: How Does a Bike-Share Navigate Speedy Success?\n",
        "============================================================\n",
        "## introduction \n",
        "This is a case study about the **Cyclistic bike-share analysis**, in this case, I will be analyzed by following the steps of **the data analysis process: ask, prepare, process, analyze, share, and act**.\n",
        "\n",
        "### About the Company\n",
        "In 2016, **Cyclistic** launched a successful bike-share offering. Since then, the program has grown to a fleet of 5,824 bicycles that are geotracked and locked into a network of 692 stations across Chicago. The bikes can be unlocked from one station and returned to any other station in the system at any time.\n",
        "\n",
        "### Business task:\n",
        "Analyze the Cyclistic data set for one year to understand how annual members and casual riders use Cyclistic bikes differently.\n",
        "\n",
        "### Stakeholders:\n",
        "\n",
        "**Lily Moreno**: The director of marketing. Moreno is responsible for the development of campaigns and initiatives to promote the bike-share program.\n",
        "**Cyclistic marketing analytics team: ** A team of data analysts who are responsible for collecting, analyzing, and reporting data that helps guide Cyclistic marketing strategy.\n",
        "**Cyclistic executive team**: The executive team will decide whether to approve the recommended marketing program.\n",
        "\n",
        "### Deliverables:\n",
        "\n",
        "> - A description of all data sources used\n",
        "> - Documentation of any cleaning or manipulation of data\n",
        "> - A summary of the analysis\n",
        "> - Supporting visualizations and key findings\n",
        "> - Top three to four recommendations based on the analysis\n",
        "\n",
        "## STEP ONE: **ASK**\n",
        "**Lily Moreno**(The director of marketing and my manager) has set a clear goal: Design marketing strategies aimed at converting casual riders into annual members. To do that, however, the marketing analyst team needs to better understand how annual members and casual riders differ, why casual riders would buy a membership, and how digital media could affect their marketing tactics. Moreno and her team are interested in analyzing the Cyclistic historical bike trip data to identify trends by asking three questions that will guide the future marketing program:\n",
        "\n",
        "**1.** How do annual members and casual riders use Cyclistic bikes differently?\n",
        "\n",
        "**2.** Why would casual riders buy Cyclistic annual memberships?\n",
        "\n",
        "**3.** How can Cyclistic use digital media to influence casual riders to become members?\n",
        "\n",
        "**Moreno** has assigned you the first question to answer: **How do annual members and casual riders use Cyclistic bikes differently?**, to answer this question I should prepare data by collecting it from a trusted source.\n",
        "\n",
        "## STEP TWO: PREPARE\n",
        "the raw data is located in [here](https://divvy-tripdata.s3.amazonaws.com/index.html), and it is publicly available under this [license](https://ride.divvybikes.com/data-license-agreement) with some privacy restriction.\n",
        "\n",
        "\n",
        "**ROCCC data**\n",
        "\n",
        "> - **Reliable**: this dataset is complete, accurate and it is from a trusted source\n",
        "\n",
        "> - **Original:** the data collected from the first part means it is Original \n",
        "\n",
        "> - **Comprehensive:** the data contain information that we need to do the analysis\n",
        "\n",
        "> -  **Current:** I choose the period from September 2021 to August 2022 \n",
        "\n",
        "> - **Cited:** the data is [here](https://divvy-tripdata.s3.amazonaws.com/index.html)\n",
        "\n",
        "before downloading the raw data we need to install some dependencies\n",
        "\n",
        "***install and import the libraries***"
      ]
    },
    {
      "cell_type": "code",
      "execution_count": 1,
      "metadata": {
        "id": "h59F8zoCK-7V"
      },
      "outputs": [],
      "source": [
        "\n",
        "import matplotlib.pyplot as plt \n",
        "import seaborn as sns\n",
        "import pandas as pd\n",
        "import numpy as np\n",
        "import gc"
      ]
    },
    {
      "cell_type": "markdown",
      "metadata": {
        "id": "aFoZepeDqosW"
      },
      "source": [
        "1. Pandas is python data analysis library, you can check the [documentation](https://pandas.pydata.org/docs/)\n",
        "2. Numpy is python library for scientific computing, again you can see more in the [documenatation](https://numpy.org/doc/stable/)\n",
        "3. Matplotlib is pythonn data visualization library, see [more](https://matplotlib.org/)\n",
        "\n",
        "***then, we downloaded 12 the dataset that are from September 2021 to August 2022***"
      ]
    },
    {
      "cell_type": "code",
      "execution_count": 2,
      "metadata": {
        "id": "iay8YkxPMBPy"
      },
      "outputs": [],
      "source": [
        "df_01 = pd.read_csv(\"/content/drive/MyDrive/dataset/divvy-tripdata_202109.csv\")\n",
        "df_02 = pd.read_csv(\"/content/drive/MyDrive/dataset/divvy-tripdata_202110.csv\")\n",
        "df_03 = pd.read_csv(\"/content/drive/MyDrive/dataset/divvy-tripdata_202111.csv\")\n",
        "df_04 = pd.read_csv(\"/content/drive/MyDrive/dataset/divvy-tripdata_202112.csv\")\n",
        "df_05 = pd.read_csv(\"/content/drive/MyDrive/dataset/divvy-tripdata_202201.csv\")\n",
        "df_06 = pd.read_csv(\"/content/drive/MyDrive/dataset/divvy-tripdata_202202.csv\")\n",
        "df_07 = pd.read_csv(\"/content/drive/MyDrive/dataset/divvy-tripdata_202203.csv\")\n",
        "df_08 = pd.read_csv(\"/content/drive/MyDrive/dataset/divvy-tripdata_202204.csv\")\n",
        "df_09 = pd.read_csv(\"/content/drive/MyDrive/dataset/divvy-tripdata_202205.csv\")\n",
        "df_10 = pd.read_csv(\"/content/drive/MyDrive/dataset/divvy-tripdata_202206.csv\")\n",
        "df_11 = pd.read_csv(\"/content/drive/MyDrive/dataset/divvy-tripdata_202207.csv\")\n",
        "df_12 = pd.read_csv(\"/content/drive/MyDrive/dataset/divvy-tripdata_202208.csv\")\n"
      ]
    },
    {
      "cell_type": "markdown",
      "metadata": {
        "id": "p16ZRwP2mwMS"
      },
      "source": [
        "#### 1.Before wrangling dataset we will concatenate all the datatset into one then remove the 12 dataset \n",
        "\n",
        "we doing that because we need more RAM"
      ]
    },
    {
      "cell_type": "code",
      "execution_count": 3,
      "metadata": {
        "id": "r_kt7b1oNGeD"
      },
      "outputs": [],
      "source": [
        "#concate the all dataset into one \n",
        "df = pd.concat([df_01, df_02, df_03, df_04, df_05, df_06, df_07, df_08, df_09, df_10,\n",
        "               df_11, df_12])"
      ]
    },
    {
      "cell_type": "markdown",
      "source": [
        "Save df to  pickle, for computation reasons."
      ],
      "metadata": {
        "id": "MSXkJglm2QPq"
      }
    },
    {
      "cell_type": "code",
      "source": [
        "#save df to pickle \n",
        "df.to_pickle(\"./bike.pkl\")"
      ],
      "metadata": {
        "id": "lnDtFV_vxveD"
      },
      "execution_count": 4,
      "outputs": []
    },
    {
      "cell_type": "markdown",
      "source": [
        "read bike.pkl "
      ],
      "metadata": {
        "id": "ipWLzewv4tPR"
      }
    },
    {
      "cell_type": "code",
      "source": [
        "bike = pd.read_pickle('bike.pkl')\n",
        "bike.head()"
      ],
      "metadata": {
        "colab": {
          "base_uri": "https://localhost:8080/",
          "height": 444
        },
        "id": "3nOw3-Aa5V9_",
        "outputId": "8184fbd0-a6cb-43d3-b524-f6f7b12ebf8d"
      },
      "execution_count": 5,
      "outputs": [
        {
          "output_type": "execute_result",
          "data": {
            "text/plain": [
              "            ride_id  rideable_type           started_at             ended_at  \\\n",
              "0  9DC7B962304CBFD8  electric_bike  2021-09-28 16:07:10  2021-09-28 16:09:54   \n",
              "1  F930E2C6872D6B32  electric_bike  2021-09-28 14:24:51  2021-09-28 14:40:05   \n",
              "2  6EF72137900BB910  electric_bike  2021-09-28 00:20:16  2021-09-28 00:23:57   \n",
              "3  78D1DE133B3DBF55  electric_bike  2021-09-28 14:51:17  2021-09-28 15:00:06   \n",
              "4  E03D4ACDCAEF6E00  electric_bike  2021-09-28 09:53:12  2021-09-28 10:03:44   \n",
              "\n",
              "  start_station_name start_station_id end_station_name end_station_id  \\\n",
              "0                NaN              NaN              NaN            NaN   \n",
              "1                NaN              NaN              NaN            NaN   \n",
              "2                NaN              NaN              NaN            NaN   \n",
              "3                NaN              NaN              NaN            NaN   \n",
              "4                NaN              NaN              NaN            NaN   \n",
              "\n",
              "   start_lat  start_lng  end_lat  end_lng member_casual  \n",
              "0      41.89     -87.68    41.89   -87.67        casual  \n",
              "1      41.94     -87.64    41.98   -87.67        casual  \n",
              "2      41.81     -87.72    41.80   -87.72        casual  \n",
              "3      41.80     -87.72    41.81   -87.72        casual  \n",
              "4      41.88     -87.74    41.88   -87.71        casual  "
            ],
            "text/html": [
              "\n",
              "  <div id=\"df-1b6da382-f415-4dff-8ba2-547d3508a018\">\n",
              "    <div class=\"colab-df-container\">\n",
              "      <div>\n",
              "<style scoped>\n",
              "    .dataframe tbody tr th:only-of-type {\n",
              "        vertical-align: middle;\n",
              "    }\n",
              "\n",
              "    .dataframe tbody tr th {\n",
              "        vertical-align: top;\n",
              "    }\n",
              "\n",
              "    .dataframe thead th {\n",
              "        text-align: right;\n",
              "    }\n",
              "</style>\n",
              "<table border=\"1\" class=\"dataframe\">\n",
              "  <thead>\n",
              "    <tr style=\"text-align: right;\">\n",
              "      <th></th>\n",
              "      <th>ride_id</th>\n",
              "      <th>rideable_type</th>\n",
              "      <th>started_at</th>\n",
              "      <th>ended_at</th>\n",
              "      <th>start_station_name</th>\n",
              "      <th>start_station_id</th>\n",
              "      <th>end_station_name</th>\n",
              "      <th>end_station_id</th>\n",
              "      <th>start_lat</th>\n",
              "      <th>start_lng</th>\n",
              "      <th>end_lat</th>\n",
              "      <th>end_lng</th>\n",
              "      <th>member_casual</th>\n",
              "    </tr>\n",
              "  </thead>\n",
              "  <tbody>\n",
              "    <tr>\n",
              "      <th>0</th>\n",
              "      <td>9DC7B962304CBFD8</td>\n",
              "      <td>electric_bike</td>\n",
              "      <td>2021-09-28 16:07:10</td>\n",
              "      <td>2021-09-28 16:09:54</td>\n",
              "      <td>NaN</td>\n",
              "      <td>NaN</td>\n",
              "      <td>NaN</td>\n",
              "      <td>NaN</td>\n",
              "      <td>41.89</td>\n",
              "      <td>-87.68</td>\n",
              "      <td>41.89</td>\n",
              "      <td>-87.67</td>\n",
              "      <td>casual</td>\n",
              "    </tr>\n",
              "    <tr>\n",
              "      <th>1</th>\n",
              "      <td>F930E2C6872D6B32</td>\n",
              "      <td>electric_bike</td>\n",
              "      <td>2021-09-28 14:24:51</td>\n",
              "      <td>2021-09-28 14:40:05</td>\n",
              "      <td>NaN</td>\n",
              "      <td>NaN</td>\n",
              "      <td>NaN</td>\n",
              "      <td>NaN</td>\n",
              "      <td>41.94</td>\n",
              "      <td>-87.64</td>\n",
              "      <td>41.98</td>\n",
              "      <td>-87.67</td>\n",
              "      <td>casual</td>\n",
              "    </tr>\n",
              "    <tr>\n",
              "      <th>2</th>\n",
              "      <td>6EF72137900BB910</td>\n",
              "      <td>electric_bike</td>\n",
              "      <td>2021-09-28 00:20:16</td>\n",
              "      <td>2021-09-28 00:23:57</td>\n",
              "      <td>NaN</td>\n",
              "      <td>NaN</td>\n",
              "      <td>NaN</td>\n",
              "      <td>NaN</td>\n",
              "      <td>41.81</td>\n",
              "      <td>-87.72</td>\n",
              "      <td>41.80</td>\n",
              "      <td>-87.72</td>\n",
              "      <td>casual</td>\n",
              "    </tr>\n",
              "    <tr>\n",
              "      <th>3</th>\n",
              "      <td>78D1DE133B3DBF55</td>\n",
              "      <td>electric_bike</td>\n",
              "      <td>2021-09-28 14:51:17</td>\n",
              "      <td>2021-09-28 15:00:06</td>\n",
              "      <td>NaN</td>\n",
              "      <td>NaN</td>\n",
              "      <td>NaN</td>\n",
              "      <td>NaN</td>\n",
              "      <td>41.80</td>\n",
              "      <td>-87.72</td>\n",
              "      <td>41.81</td>\n",
              "      <td>-87.72</td>\n",
              "      <td>casual</td>\n",
              "    </tr>\n",
              "    <tr>\n",
              "      <th>4</th>\n",
              "      <td>E03D4ACDCAEF6E00</td>\n",
              "      <td>electric_bike</td>\n",
              "      <td>2021-09-28 09:53:12</td>\n",
              "      <td>2021-09-28 10:03:44</td>\n",
              "      <td>NaN</td>\n",
              "      <td>NaN</td>\n",
              "      <td>NaN</td>\n",
              "      <td>NaN</td>\n",
              "      <td>41.88</td>\n",
              "      <td>-87.74</td>\n",
              "      <td>41.88</td>\n",
              "      <td>-87.71</td>\n",
              "      <td>casual</td>\n",
              "    </tr>\n",
              "  </tbody>\n",
              "</table>\n",
              "</div>\n",
              "      <button class=\"colab-df-convert\" onclick=\"convertToInteractive('df-1b6da382-f415-4dff-8ba2-547d3508a018')\"\n",
              "              title=\"Convert this dataframe to an interactive table.\"\n",
              "              style=\"display:none;\">\n",
              "        \n",
              "  <svg xmlns=\"http://www.w3.org/2000/svg\" height=\"24px\"viewBox=\"0 0 24 24\"\n",
              "       width=\"24px\">\n",
              "    <path d=\"M0 0h24v24H0V0z\" fill=\"none\"/>\n",
              "    <path d=\"M18.56 5.44l.94 2.06.94-2.06 2.06-.94-2.06-.94-.94-2.06-.94 2.06-2.06.94zm-11 1L8.5 8.5l.94-2.06 2.06-.94-2.06-.94L8.5 2.5l-.94 2.06-2.06.94zm10 10l.94 2.06.94-2.06 2.06-.94-2.06-.94-.94-2.06-.94 2.06-2.06.94z\"/><path d=\"M17.41 7.96l-1.37-1.37c-.4-.4-.92-.59-1.43-.59-.52 0-1.04.2-1.43.59L10.3 9.45l-7.72 7.72c-.78.78-.78 2.05 0 2.83L4 21.41c.39.39.9.59 1.41.59.51 0 1.02-.2 1.41-.59l7.78-7.78 2.81-2.81c.8-.78.8-2.07 0-2.86zM5.41 20L4 18.59l7.72-7.72 1.47 1.35L5.41 20z\"/>\n",
              "  </svg>\n",
              "      </button>\n",
              "      \n",
              "  <style>\n",
              "    .colab-df-container {\n",
              "      display:flex;\n",
              "      flex-wrap:wrap;\n",
              "      gap: 12px;\n",
              "    }\n",
              "\n",
              "    .colab-df-convert {\n",
              "      background-color: #E8F0FE;\n",
              "      border: none;\n",
              "      border-radius: 50%;\n",
              "      cursor: pointer;\n",
              "      display: none;\n",
              "      fill: #1967D2;\n",
              "      height: 32px;\n",
              "      padding: 0 0 0 0;\n",
              "      width: 32px;\n",
              "    }\n",
              "\n",
              "    .colab-df-convert:hover {\n",
              "      background-color: #E2EBFA;\n",
              "      box-shadow: 0px 1px 2px rgba(60, 64, 67, 0.3), 0px 1px 3px 1px rgba(60, 64, 67, 0.15);\n",
              "      fill: #174EA6;\n",
              "    }\n",
              "\n",
              "    [theme=dark] .colab-df-convert {\n",
              "      background-color: #3B4455;\n",
              "      fill: #D2E3FC;\n",
              "    }\n",
              "\n",
              "    [theme=dark] .colab-df-convert:hover {\n",
              "      background-color: #434B5C;\n",
              "      box-shadow: 0px 1px 3px 1px rgba(0, 0, 0, 0.15);\n",
              "      filter: drop-shadow(0px 1px 2px rgba(0, 0, 0, 0.3));\n",
              "      fill: #FFFFFF;\n",
              "    }\n",
              "  </style>\n",
              "\n",
              "      <script>\n",
              "        const buttonEl =\n",
              "          document.querySelector('#df-1b6da382-f415-4dff-8ba2-547d3508a018 button.colab-df-convert');\n",
              "        buttonEl.style.display =\n",
              "          google.colab.kernel.accessAllowed ? 'block' : 'none';\n",
              "\n",
              "        async function convertToInteractive(key) {\n",
              "          const element = document.querySelector('#df-1b6da382-f415-4dff-8ba2-547d3508a018');\n",
              "          const dataTable =\n",
              "            await google.colab.kernel.invokeFunction('convertToInteractive',\n",
              "                                                     [key], {});\n",
              "          if (!dataTable) return;\n",
              "\n",
              "          const docLinkHtml = 'Like what you see? Visit the ' +\n",
              "            '<a target=\"_blank\" href=https://colab.research.google.com/notebooks/data_table.ipynb>data table notebook</a>'\n",
              "            + ' to learn more about interactive tables.';\n",
              "          element.innerHTML = '';\n",
              "          dataTable['output_type'] = 'display_data';\n",
              "          await google.colab.output.renderOutput(dataTable, element);\n",
              "          const docLink = document.createElement('div');\n",
              "          docLink.innerHTML = docLinkHtml;\n",
              "          element.appendChild(docLink);\n",
              "        }\n",
              "      </script>\n",
              "    </div>\n",
              "  </div>\n",
              "  "
            ]
          },
          "metadata": {},
          "execution_count": 5
        }
      ]
    },
    {
      "cell_type": "code",
      "execution_count": 6,
      "metadata": {
        "colab": {
          "base_uri": "https://localhost:8080/"
        },
        "id": "_rODgE6_sCpX",
        "outputId": "5f3e8716-f4f0-4ba0-f59c-1455453c15a6"
      },
      "outputs": [
        {
          "output_type": "execute_result",
          "data": {
            "text/plain": [
              "0"
            ]
          },
          "metadata": {},
          "execution_count": 6
        }
      ],
      "source": [
        "#delete all \n",
        "del df_01, df_02, df_03, df_04, df_05, df_06, df_07, df_08, df_09, df_10, df_11, df_12\n",
        "gc.collect()\n"
      ]
    },
    {
      "cell_type": "markdown",
      "metadata": {
        "id": "fnTRFui5sV9t"
      },
      "source": [
        "#### 2. see if we have the same columns in all dataset"
      ]
    },
    {
      "cell_type": "code",
      "execution_count": 7,
      "metadata": {
        "colab": {
          "base_uri": "https://localhost:8080/"
        },
        "id": "x9IPp6QlsQTq",
        "outputId": "7457f37e-42f5-4d55-e08b-296f785cc5cc"
      },
      "outputs": [
        {
          "output_type": "execute_result",
          "data": {
            "text/plain": [
              "Index(['ride_id', 'rideable_type', 'started_at', 'ended_at',\n",
              "       'start_station_name', 'start_station_id', 'end_station_name',\n",
              "       'end_station_id', 'start_lat', 'start_lng', 'end_lat', 'end_lng',\n",
              "       'member_casual'],\n",
              "      dtype='object')"
            ]
          },
          "metadata": {},
          "execution_count": 7
        }
      ],
      "source": [
        "#bike columns\n",
        "bike.columns "
      ]
    },
    {
      "cell_type": "markdown",
      "metadata": {
        "id": "qV7payvTsjZE"
      },
      "source": [
        "#### 3. A Structure  dataset, we want to see each column and it's a datatype"
      ]
    },
    {
      "cell_type": "code",
      "execution_count": 8,
      "metadata": {
        "colab": {
          "base_uri": "https://localhost:8080/"
        },
        "id": "Oi4UG5Ojska8",
        "outputId": "02a555f7-827d-4267-9f6e-e5b78ed2ede2"
      },
      "outputs": [
        {
          "output_type": "execute_result",
          "data": {
            "text/plain": [
              "ride_id                object\n",
              "rideable_type          object\n",
              "started_at             object\n",
              "ended_at               object\n",
              "start_station_name     object\n",
              "start_station_id       object\n",
              "end_station_name       object\n",
              "end_station_id         object\n",
              "start_lat             float64\n",
              "start_lng             float64\n",
              "end_lat               float64\n",
              "end_lng               float64\n",
              "member_casual          object\n",
              "dtype: object"
            ]
          },
          "metadata": {},
          "execution_count": 8
        }
      ],
      "source": [
        "#dtypes\n",
        "bike.dtypes"
      ]
    },
    {
      "cell_type": "markdown",
      "metadata": {
        "id": "q00UvD03s_v_"
      },
      "source": [
        "\n",
        "dataset have the same columns ***(ride_id, rideable_type, started_at, ended_at, start_station_name, start_station_id, end_station_id, start_lat, start_lng, end_lat, end_lng, member_casual)***,  I didn't to rename some dataset's becaue they have same columns name\n",
        "\n",
        "## STEP THREE: PROCESSING\n",
        "\n",
        "After combining all datasets into one, first clean the df dataset by the filter's out the duplicated value and looking for missing numeric values, after that, I will add more columns that beneficial to my analysis."
      ]
    },
    {
      "cell_type": "markdown",
      "metadata": {
        "id": "28jemENduLwF"
      },
      "source": [
        "#### 1- remove the duplicated value"
      ]
    },
    {
      "cell_type": "code",
      "execution_count": 9,
      "metadata": {
        "colab": {
          "base_uri": "https://localhost:8080/"
        },
        "id": "a3VevVegs27b",
        "outputId": "7c22eeb4-aa44-4766-d259-3adc59566f23"
      },
      "outputs": [
        {
          "output_type": "stream",
          "name": "stdout",
          "text": [
            "0\n"
          ]
        }
      ],
      "source": [
        "#df, ride_id duplicated\n",
        "print(sum(bike['ride_id'].duplicated()))"
      ]
    },
    {
      "cell_type": "markdown",
      "metadata": {
        "id": "t8LDLia8vEYf"
      },
      "source": [
        "-as you can see there's no duplication in ride_id, so now let's keep forward and deal with the missing value\n",
        "\n",
        "#### 2- check if there is a missing value."
      ]
    },
    {
      "cell_type": "code",
      "execution_count": 10,
      "metadata": {
        "colab": {
          "base_uri": "https://localhost:8080/"
        },
        "id": "iImUg-p8u4K0",
        "outputId": "bac36c71-f529-4948-a48d-8f5708bad011"
      },
      "outputs": [
        {
          "output_type": "stream",
          "name": "stdout",
          "text": [
            "0\n",
            "0\n",
            "0\n",
            "0\n",
            "884365\n",
            "884363\n",
            "946303\n",
            "946303\n",
            "0\n",
            "0\n",
            "5727\n",
            "5727\n",
            "0\n"
          ]
        }
      ],
      "source": [
        "#df missing value for ride_id\n",
        "print(sum(bike.ride_id.isnull()))\n",
        "\n",
        "#df missing value for rideable_type\n",
        "print(sum(bike.rideable_type.isnull()))\n",
        "\n",
        "#df missing value for started_at \n",
        "print(sum(bike.started_at.isnull()))\n",
        "\n",
        "#df missing value for ended_at\n",
        "print(sum(bike.ended_at.isnull()))\n",
        "\n",
        "#df missing value for start_station_name\n",
        "print(sum(bike.start_station_name.isnull()))\n",
        "\n",
        "#df missing value for start_station_id\n",
        "print(sum(bike.start_station_id.isnull()))\n",
        "\n",
        "#df missing value for end_station_name\n",
        "print(sum(bike.end_station_name.isnull()))\n",
        "\n",
        "#df missing value for end_station_id\n",
        "print(sum(bike.end_station_id.isnull()))\n",
        "\n",
        "#df missing value for start_lat\n",
        "print(sum(bike.start_lat.isnull()))\n",
        "\n",
        "#dfmissing value for start_lng\n",
        "print(sum(bike.start_lng.isnull()))\n",
        "\n",
        "#dfmissing value for end_lat\n",
        "print(sum(bike.end_lat.isnull()))\n",
        "\n",
        "#df missing value for end_lng\n",
        "print(sum(bike.end_lng.isnull()))\n",
        "\n",
        "#df missing value for member_casual\n",
        "print(sum(bike.member_casual.isnull()))\n"
      ]
    },
    {
      "cell_type": "markdown",
      "metadata": {
        "id": "YDkTNTJEwfFU"
      },
      "source": [
        "The df columns missing value is **start_station_name, start_station_id, end_station_name, end_station_id, end_lat, end_lng**"
      ]
    },
    {
      "cell_type": "markdown",
      "metadata": {
        "id": "rQ7sWVF-zAbN"
      },
      "source": [
        " #### 3- filling the missing \n",
        " let's filling each dataset missing value by first looking for the datatype and filling the null in terms of thier datatype"
      ]
    },
    {
      "cell_type": "code",
      "execution_count": 11,
      "metadata": {
        "id": "W0rPakA3whZr"
      },
      "outputs": [],
      "source": [
        "#fillna\n",
        "bike[\"start_station_name\"].ffill(axis=0, inplace=True)\n",
        "bike[\"start_station_name\"].bfill(axis=0, inplace=True)\n",
        "bike[\"start_station_id\"].ffill(axis=0, inplace=True)\n",
        "bike[\"start_station_id\"].bfill(axis=0, inplace=True)\n",
        "bike[\"end_station_name\"].ffill(axis=0, inplace=True)\n",
        "bike[\"end_station_name\"].bfill(axis=0, inplace=True)\n",
        "bike[\"end_station_id\"].ffill(axis=0, inplace=True)\n",
        "bike[\"end_station_id\"].bfill(axis=0, inplace=True)\n",
        "bike[\"end_lat\"].ffill(axis=0, inplace=True)\n",
        "bike[\"end_lat\"].bfill(axis=0, inplace=True)\n",
        "bike[\"end_lng\"].ffill(axis=0, inplace=True)\n",
        "bike[\"end_lng\"].bfill(axis=0, inplace=True)"
      ]
    },
    {
      "cell_type": "markdown",
      "metadata": {
        "id": "-U94db2-zrmS"
      },
      "source": [
        "\n",
        "\n",
        "##### 4- Data varification\n",
        "check if there is duplication and missing value \n"
      ]
    },
    {
      "cell_type": "code",
      "execution_count": 12,
      "metadata": {
        "colab": {
          "base_uri": "https://localhost:8080/"
        },
        "id": "9Vp69F1i0yoH",
        "outputId": "70f6f9e1-9e15-4f1b-eb79-56f4abb10aeb"
      },
      "outputs": [
        {
          "output_type": "stream",
          "name": "stdout",
          "text": [
            "0\n"
          ]
        }
      ],
      "source": [
        "#duplucation\n",
        "print(sum(bike['ride_id'].duplicated()))\n"
      ]
    },
    {
      "cell_type": "code",
      "execution_count": 13,
      "metadata": {
        "colab": {
          "base_uri": "https://localhost:8080/"
        },
        "id": "5I3d7C-20M93",
        "outputId": "739bbedc-5019-4a2a-da92-4bfc069b500f"
      },
      "outputs": [
        {
          "output_type": "stream",
          "name": "stdout",
          "text": [
            "0\n",
            "0\n",
            "0\n",
            "0\n",
            "0\n",
            "0\n",
            "0\n",
            "0\n",
            "0\n",
            "0\n",
            "0\n",
            "0\n",
            "0\n"
          ]
        }
      ],
      "source": [
        "#df missing value for ride_id\n",
        "print(sum(bike.ride_id.isnull()))\n",
        "\n",
        "#df missing value for rideable_type\n",
        "print(sum(bike.rideable_type.isnull()))\n",
        "\n",
        "#df missing value for started_at \n",
        "print(sum(bike.started_at.isnull()))\n",
        "\n",
        "#df missing value for ended_at\n",
        "print(sum(bike.ended_at.isnull()))\n",
        "\n",
        "#df missing value for start_station_name\n",
        "print(sum(bike.start_station_name.isnull()))\n",
        "\n",
        "#df missing value for start_station_id\n",
        "print(sum(bike.start_station_id.isnull()))\n",
        "\n",
        "#df missing value for end_station_name\n",
        "print(sum(bike.end_station_name.isnull()))\n",
        "\n",
        "#df missing value for end_station_id\n",
        "print(sum(bike.end_station_id.isnull()))\n",
        "\n",
        "#df missing value for start_lat\n",
        "print(sum(bike.start_lat.isnull()))\n",
        "\n",
        "#dfmissing value for start_lng\n",
        "print(sum(bike.start_lng.isnull()))\n",
        "\n",
        "#dfmissing value for end_lat\n",
        "print(sum(bike.end_lat.isnull()))\n",
        "\n",
        "#df missing value for end_lng\n",
        "print(sum(bike.end_lng.isnull()))\n",
        "\n",
        "#df missing value for member_casual\n",
        "print(sum(bike.member_casual.isnull()))"
      ]
    },
    {
      "cell_type": "markdown",
      "metadata": {
        "id": "kqpLMhf_087j"
      },
      "source": [
        "##### 5. create more columns\n",
        "5.1. converting the started_at and ended_at DateTime datatype and splitting into the day, month, year, and day of the week."
      ]
    },
    {
      "cell_type": "code",
      "execution_count": 14,
      "metadata": {
        "colab": {
          "base_uri": "https://localhost:8080/",
          "height": 444
        },
        "id": "r44Gv4qC0_zh",
        "outputId": "f22afc8c-d828-4468-cfd4-03f355ae102c"
      },
      "outputs": [
        {
          "output_type": "execute_result",
          "data": {
            "text/plain": [
              "            ride_id  rideable_type          started_at            ended_at  \\\n",
              "0  9DC7B962304CBFD8  electric_bike 2021-09-28 16:07:10 2021-09-28 16:09:54   \n",
              "1  F930E2C6872D6B32  electric_bike 2021-09-28 14:24:51 2021-09-28 14:40:05   \n",
              "2  6EF72137900BB910  electric_bike 2021-09-28 00:20:16 2021-09-28 00:23:57   \n",
              "3  78D1DE133B3DBF55  electric_bike 2021-09-28 14:51:17 2021-09-28 15:00:06   \n",
              "4  E03D4ACDCAEF6E00  electric_bike 2021-09-28 09:53:12 2021-09-28 10:03:44   \n",
              "\n",
              "    start_station_name start_station_id           end_station_name  \\\n",
              "0  Clark St & Grace St     TA1307000127  Desplaines St & Kinzie St   \n",
              "1  Clark St & Grace St     TA1307000127  Desplaines St & Kinzie St   \n",
              "2  Clark St & Grace St     TA1307000127  Desplaines St & Kinzie St   \n",
              "3  Clark St & Grace St     TA1307000127  Desplaines St & Kinzie St   \n",
              "4  Clark St & Grace St     TA1307000127  Desplaines St & Kinzie St   \n",
              "\n",
              "  end_station_id  start_lat  start_lng  end_lat  end_lng member_casual  day  \\\n",
              "0   TA1306000003      41.89     -87.68    41.89   -87.67        casual   28   \n",
              "1   TA1306000003      41.94     -87.64    41.98   -87.67        casual   28   \n",
              "2   TA1306000003      41.81     -87.72    41.80   -87.72        casual   28   \n",
              "3   TA1306000003      41.80     -87.72    41.81   -87.72        casual   28   \n",
              "4   TA1306000003      41.88     -87.74    41.88   -87.71        casual   28   \n",
              "\n",
              "       month  year day_of_week  hour  minute  second  \n",
              "0  September  2021     Tuesday    16       7      10  \n",
              "1  September  2021     Tuesday    14      24      51  \n",
              "2  September  2021     Tuesday     0      20      16  \n",
              "3  September  2021     Tuesday    14      51      17  \n",
              "4  September  2021     Tuesday     9      53      12  "
            ],
            "text/html": [
              "\n",
              "  <div id=\"df-9f7500d4-e90c-496e-95b3-dcf52aeb923f\">\n",
              "    <div class=\"colab-df-container\">\n",
              "      <div>\n",
              "<style scoped>\n",
              "    .dataframe tbody tr th:only-of-type {\n",
              "        vertical-align: middle;\n",
              "    }\n",
              "\n",
              "    .dataframe tbody tr th {\n",
              "        vertical-align: top;\n",
              "    }\n",
              "\n",
              "    .dataframe thead th {\n",
              "        text-align: right;\n",
              "    }\n",
              "</style>\n",
              "<table border=\"1\" class=\"dataframe\">\n",
              "  <thead>\n",
              "    <tr style=\"text-align: right;\">\n",
              "      <th></th>\n",
              "      <th>ride_id</th>\n",
              "      <th>rideable_type</th>\n",
              "      <th>started_at</th>\n",
              "      <th>ended_at</th>\n",
              "      <th>start_station_name</th>\n",
              "      <th>start_station_id</th>\n",
              "      <th>end_station_name</th>\n",
              "      <th>end_station_id</th>\n",
              "      <th>start_lat</th>\n",
              "      <th>start_lng</th>\n",
              "      <th>end_lat</th>\n",
              "      <th>end_lng</th>\n",
              "      <th>member_casual</th>\n",
              "      <th>day</th>\n",
              "      <th>month</th>\n",
              "      <th>year</th>\n",
              "      <th>day_of_week</th>\n",
              "      <th>hour</th>\n",
              "      <th>minute</th>\n",
              "      <th>second</th>\n",
              "    </tr>\n",
              "  </thead>\n",
              "  <tbody>\n",
              "    <tr>\n",
              "      <th>0</th>\n",
              "      <td>9DC7B962304CBFD8</td>\n",
              "      <td>electric_bike</td>\n",
              "      <td>2021-09-28 16:07:10</td>\n",
              "      <td>2021-09-28 16:09:54</td>\n",
              "      <td>Clark St &amp; Grace St</td>\n",
              "      <td>TA1307000127</td>\n",
              "      <td>Desplaines St &amp; Kinzie St</td>\n",
              "      <td>TA1306000003</td>\n",
              "      <td>41.89</td>\n",
              "      <td>-87.68</td>\n",
              "      <td>41.89</td>\n",
              "      <td>-87.67</td>\n",
              "      <td>casual</td>\n",
              "      <td>28</td>\n",
              "      <td>September</td>\n",
              "      <td>2021</td>\n",
              "      <td>Tuesday</td>\n",
              "      <td>16</td>\n",
              "      <td>7</td>\n",
              "      <td>10</td>\n",
              "    </tr>\n",
              "    <tr>\n",
              "      <th>1</th>\n",
              "      <td>F930E2C6872D6B32</td>\n",
              "      <td>electric_bike</td>\n",
              "      <td>2021-09-28 14:24:51</td>\n",
              "      <td>2021-09-28 14:40:05</td>\n",
              "      <td>Clark St &amp; Grace St</td>\n",
              "      <td>TA1307000127</td>\n",
              "      <td>Desplaines St &amp; Kinzie St</td>\n",
              "      <td>TA1306000003</td>\n",
              "      <td>41.94</td>\n",
              "      <td>-87.64</td>\n",
              "      <td>41.98</td>\n",
              "      <td>-87.67</td>\n",
              "      <td>casual</td>\n",
              "      <td>28</td>\n",
              "      <td>September</td>\n",
              "      <td>2021</td>\n",
              "      <td>Tuesday</td>\n",
              "      <td>14</td>\n",
              "      <td>24</td>\n",
              "      <td>51</td>\n",
              "    </tr>\n",
              "    <tr>\n",
              "      <th>2</th>\n",
              "      <td>6EF72137900BB910</td>\n",
              "      <td>electric_bike</td>\n",
              "      <td>2021-09-28 00:20:16</td>\n",
              "      <td>2021-09-28 00:23:57</td>\n",
              "      <td>Clark St &amp; Grace St</td>\n",
              "      <td>TA1307000127</td>\n",
              "      <td>Desplaines St &amp; Kinzie St</td>\n",
              "      <td>TA1306000003</td>\n",
              "      <td>41.81</td>\n",
              "      <td>-87.72</td>\n",
              "      <td>41.80</td>\n",
              "      <td>-87.72</td>\n",
              "      <td>casual</td>\n",
              "      <td>28</td>\n",
              "      <td>September</td>\n",
              "      <td>2021</td>\n",
              "      <td>Tuesday</td>\n",
              "      <td>0</td>\n",
              "      <td>20</td>\n",
              "      <td>16</td>\n",
              "    </tr>\n",
              "    <tr>\n",
              "      <th>3</th>\n",
              "      <td>78D1DE133B3DBF55</td>\n",
              "      <td>electric_bike</td>\n",
              "      <td>2021-09-28 14:51:17</td>\n",
              "      <td>2021-09-28 15:00:06</td>\n",
              "      <td>Clark St &amp; Grace St</td>\n",
              "      <td>TA1307000127</td>\n",
              "      <td>Desplaines St &amp; Kinzie St</td>\n",
              "      <td>TA1306000003</td>\n",
              "      <td>41.80</td>\n",
              "      <td>-87.72</td>\n",
              "      <td>41.81</td>\n",
              "      <td>-87.72</td>\n",
              "      <td>casual</td>\n",
              "      <td>28</td>\n",
              "      <td>September</td>\n",
              "      <td>2021</td>\n",
              "      <td>Tuesday</td>\n",
              "      <td>14</td>\n",
              "      <td>51</td>\n",
              "      <td>17</td>\n",
              "    </tr>\n",
              "    <tr>\n",
              "      <th>4</th>\n",
              "      <td>E03D4ACDCAEF6E00</td>\n",
              "      <td>electric_bike</td>\n",
              "      <td>2021-09-28 09:53:12</td>\n",
              "      <td>2021-09-28 10:03:44</td>\n",
              "      <td>Clark St &amp; Grace St</td>\n",
              "      <td>TA1307000127</td>\n",
              "      <td>Desplaines St &amp; Kinzie St</td>\n",
              "      <td>TA1306000003</td>\n",
              "      <td>41.88</td>\n",
              "      <td>-87.74</td>\n",
              "      <td>41.88</td>\n",
              "      <td>-87.71</td>\n",
              "      <td>casual</td>\n",
              "      <td>28</td>\n",
              "      <td>September</td>\n",
              "      <td>2021</td>\n",
              "      <td>Tuesday</td>\n",
              "      <td>9</td>\n",
              "      <td>53</td>\n",
              "      <td>12</td>\n",
              "    </tr>\n",
              "  </tbody>\n",
              "</table>\n",
              "</div>\n",
              "      <button class=\"colab-df-convert\" onclick=\"convertToInteractive('df-9f7500d4-e90c-496e-95b3-dcf52aeb923f')\"\n",
              "              title=\"Convert this dataframe to an interactive table.\"\n",
              "              style=\"display:none;\">\n",
              "        \n",
              "  <svg xmlns=\"http://www.w3.org/2000/svg\" height=\"24px\"viewBox=\"0 0 24 24\"\n",
              "       width=\"24px\">\n",
              "    <path d=\"M0 0h24v24H0V0z\" fill=\"none\"/>\n",
              "    <path d=\"M18.56 5.44l.94 2.06.94-2.06 2.06-.94-2.06-.94-.94-2.06-.94 2.06-2.06.94zm-11 1L8.5 8.5l.94-2.06 2.06-.94-2.06-.94L8.5 2.5l-.94 2.06-2.06.94zm10 10l.94 2.06.94-2.06 2.06-.94-2.06-.94-.94-2.06-.94 2.06-2.06.94z\"/><path d=\"M17.41 7.96l-1.37-1.37c-.4-.4-.92-.59-1.43-.59-.52 0-1.04.2-1.43.59L10.3 9.45l-7.72 7.72c-.78.78-.78 2.05 0 2.83L4 21.41c.39.39.9.59 1.41.59.51 0 1.02-.2 1.41-.59l7.78-7.78 2.81-2.81c.8-.78.8-2.07 0-2.86zM5.41 20L4 18.59l7.72-7.72 1.47 1.35L5.41 20z\"/>\n",
              "  </svg>\n",
              "      </button>\n",
              "      \n",
              "  <style>\n",
              "    .colab-df-container {\n",
              "      display:flex;\n",
              "      flex-wrap:wrap;\n",
              "      gap: 12px;\n",
              "    }\n",
              "\n",
              "    .colab-df-convert {\n",
              "      background-color: #E8F0FE;\n",
              "      border: none;\n",
              "      border-radius: 50%;\n",
              "      cursor: pointer;\n",
              "      display: none;\n",
              "      fill: #1967D2;\n",
              "      height: 32px;\n",
              "      padding: 0 0 0 0;\n",
              "      width: 32px;\n",
              "    }\n",
              "\n",
              "    .colab-df-convert:hover {\n",
              "      background-color: #E2EBFA;\n",
              "      box-shadow: 0px 1px 2px rgba(60, 64, 67, 0.3), 0px 1px 3px 1px rgba(60, 64, 67, 0.15);\n",
              "      fill: #174EA6;\n",
              "    }\n",
              "\n",
              "    [theme=dark] .colab-df-convert {\n",
              "      background-color: #3B4455;\n",
              "      fill: #D2E3FC;\n",
              "    }\n",
              "\n",
              "    [theme=dark] .colab-df-convert:hover {\n",
              "      background-color: #434B5C;\n",
              "      box-shadow: 0px 1px 3px 1px rgba(0, 0, 0, 0.15);\n",
              "      filter: drop-shadow(0px 1px 2px rgba(0, 0, 0, 0.3));\n",
              "      fill: #FFFFFF;\n",
              "    }\n",
              "  </style>\n",
              "\n",
              "      <script>\n",
              "        const buttonEl =\n",
              "          document.querySelector('#df-9f7500d4-e90c-496e-95b3-dcf52aeb923f button.colab-df-convert');\n",
              "        buttonEl.style.display =\n",
              "          google.colab.kernel.accessAllowed ? 'block' : 'none';\n",
              "\n",
              "        async function convertToInteractive(key) {\n",
              "          const element = document.querySelector('#df-9f7500d4-e90c-496e-95b3-dcf52aeb923f');\n",
              "          const dataTable =\n",
              "            await google.colab.kernel.invokeFunction('convertToInteractive',\n",
              "                                                     [key], {});\n",
              "          if (!dataTable) return;\n",
              "\n",
              "          const docLinkHtml = 'Like what you see? Visit the ' +\n",
              "            '<a target=\"_blank\" href=https://colab.research.google.com/notebooks/data_table.ipynb>data table notebook</a>'\n",
              "            + ' to learn more about interactive tables.';\n",
              "          element.innerHTML = '';\n",
              "          dataTable['output_type'] = 'display_data';\n",
              "          await google.colab.output.renderOutput(dataTable, element);\n",
              "          const docLink = document.createElement('div');\n",
              "          docLink.innerHTML = docLinkHtml;\n",
              "          element.appendChild(docLink);\n",
              "        }\n",
              "      </script>\n",
              "    </div>\n",
              "  </div>\n",
              "  "
            ]
          },
          "metadata": {},
          "execution_count": 14
        }
      ],
      "source": [
        "#convert the dataframe\n",
        "#started_at, ended_at to datetime \n",
        "bike['started_at'] = pd.to_datetime(bike['started_at'])\n",
        "bike['ended_at'] = pd.to_datetime(bike['ended_at'])\n",
        "bike['day'] = bike['started_at'].dt.day\n",
        "bike['month'] = bike['started_at'].dt.month_name()\n",
        "bike['year'] = bike['started_at'].dt.year\n",
        "bike['day_of_week'] = bike['started_at'].dt.day_name()\n",
        "bike['hour'] = bike['started_at'].dt.hour\n",
        "bike['minute'] = bike['started_at'].dt.minute\n",
        "bike['second'] = bike['started_at'].dt.second\n",
        "bike.head()"
      ]
    },
    {
      "cell_type": "markdown",
      "metadata": {
        "id": "3DL0pT8a1sxo"
      },
      "source": [
        "5.2. Add another column to ride_length by calculating the difference between ended_at and started_at, convert the datatype of ride_length, and than check if ride_length is numeric.\n"
      ]
    },
    {
      "cell_type": "code",
      "execution_count": 15,
      "metadata": {
        "colab": {
          "base_uri": "https://localhost:8080/"
        },
        "id": "KM-b258n11Ci",
        "outputId": "054ce56a-ed12-4149-c73e-b92b6594059c"
      },
      "outputs": [
        {
          "output_type": "execute_result",
          "data": {
            "text/plain": [
              "0     1185.211725\n",
              "1     1185.211725\n",
              "2     1185.211725\n",
              "3     1185.211725\n",
              "4     1185.211725\n",
              "5     1185.211725\n",
              "6     1185.211725\n",
              "7     1185.211725\n",
              "8     1185.211725\n",
              "9     1185.211725\n",
              "10    1185.211725\n",
              "11    1185.211725\n",
              "12    1185.211725\n",
              "13    1185.211725\n",
              "14    1185.211725\n",
              "15    1185.211725\n",
              "16    1185.211725\n",
              "17    1185.211725\n",
              "18    1185.211725\n",
              "19     811.650000\n",
              "20     863.700000\n",
              "21     853.900000\n",
              "22     916.850000\n",
              "23     905.300000\n",
              "24     907.900000\n",
              "25     931.950000\n",
              "26     948.150000\n",
              "27     900.300000\n",
              "28     956.050000\n",
              "29    1125.600000\n",
              "30    1184.600000\n",
              "31    1198.850000\n",
              "32    1212.800000\n",
              "33    1237.500000\n",
              "34    1250.450000\n",
              "35    1239.750000\n",
              "36    1254.850000\n",
              "37    1261.350000\n",
              "38    1161.600000\n",
              "39    1189.100000\n",
              "Name: ride_lengthMean, dtype: float64"
            ]
          },
          "metadata": {},
          "execution_count": 15
        }
      ],
      "source": [
        "#difference betwee the ended_at and started_at\n",
        "bike['ride_length'] = bike['ended_at'] - bike['started_at']\n",
        "bike['ride_length'] = bike['ride_length'].dt.total_seconds()\n",
        "bike['ride_lengthMean'] = bike['ride_length'].rolling(20).mean() #simple moving average \n",
        "bike['ride_lengthMean'].fillna(bike['ride_lengthMean'].mean(), inplace=True)\n",
        "bike['ride_lengthMean'].head(40)"
      ]
    },
    {
      "cell_type": "code",
      "execution_count": 16,
      "metadata": {
        "id": "-alELb8iuSyZ"
      },
      "outputs": [],
      "source": [
        "bike['ride_lengthMean'].dropna(inplace=True)"
      ]
    },
    {
      "cell_type": "markdown",
      "metadata": {
        "id": "kM3PRm8r5Fy6"
      },
      "source": [
        "- convert to float64\n",
        "\n"
      ]
    },
    {
      "cell_type": "code",
      "execution_count": 17,
      "metadata": {
        "colab": {
          "base_uri": "https://localhost:8080/"
        },
        "id": "bY45Nh0Y5ID6",
        "outputId": "a337bd7e-9825-4cef-bb19-ab962bd812f3"
      },
      "outputs": [
        {
          "output_type": "stream",
          "name": "stdout",
          "text": [
            "            ride_id  rideable_type          started_at            ended_at  \\\n",
            "0  9DC7B962304CBFD8  electric_bike 2021-09-28 16:07:10 2021-09-28 16:09:54   \n",
            "1  F930E2C6872D6B32  electric_bike 2021-09-28 14:24:51 2021-09-28 14:40:05   \n",
            "2  6EF72137900BB910  electric_bike 2021-09-28 00:20:16 2021-09-28 00:23:57   \n",
            "3  78D1DE133B3DBF55  electric_bike 2021-09-28 14:51:17 2021-09-28 15:00:06   \n",
            "4  E03D4ACDCAEF6E00  electric_bike 2021-09-28 09:53:12 2021-09-28 10:03:44   \n",
            "\n",
            "    start_station_name start_station_id           end_station_name  \\\n",
            "0  Clark St & Grace St     TA1307000127  Desplaines St & Kinzie St   \n",
            "1  Clark St & Grace St     TA1307000127  Desplaines St & Kinzie St   \n",
            "2  Clark St & Grace St     TA1307000127  Desplaines St & Kinzie St   \n",
            "3  Clark St & Grace St     TA1307000127  Desplaines St & Kinzie St   \n",
            "4  Clark St & Grace St     TA1307000127  Desplaines St & Kinzie St   \n",
            "\n",
            "  end_station_id  start_lat  start_lng  ...  member_casual  day      month  \\\n",
            "0   TA1306000003      41.89     -87.68  ...         casual   28  September   \n",
            "1   TA1306000003      41.94     -87.64  ...         casual   28  September   \n",
            "2   TA1306000003      41.81     -87.72  ...         casual   28  September   \n",
            "3   TA1306000003      41.80     -87.72  ...         casual   28  September   \n",
            "4   TA1306000003      41.88     -87.74  ...         casual   28  September   \n",
            "\n",
            "   year day_of_week  hour minute  second  ride_length  ride_lengthMean  \n",
            "0  2021     Tuesday    16      7      10        164.0      1185.211725  \n",
            "1  2021     Tuesday    14     24      51        914.0      1185.211725  \n",
            "2  2021     Tuesday     0     20      16        221.0      1185.211725  \n",
            "3  2021     Tuesday    14     51      17        529.0      1185.211725  \n",
            "4  2021     Tuesday     9     53      12        632.0      1185.211725  \n",
            "\n",
            "[5 rows x 22 columns]\n",
            "ride_id                       object\n",
            "rideable_type                 object\n",
            "started_at            datetime64[ns]\n",
            "ended_at              datetime64[ns]\n",
            "start_station_name            object\n",
            "start_station_id              object\n",
            "end_station_name              object\n",
            "end_station_id                object\n",
            "start_lat                    float64\n",
            "start_lng                    float64\n",
            "end_lat                      float64\n",
            "end_lng                      float64\n",
            "member_casual                 object\n",
            "day                            int64\n",
            "month                         object\n",
            "year                           int64\n",
            "day_of_week                   object\n",
            "hour                           int64\n",
            "minute                         int64\n",
            "second                         int64\n",
            "ride_length                  float64\n",
            "ride_lengthMean              float64\n",
            "dtype: object\n"
          ]
        }
      ],
      "source": [
        "#to_numeric, head, dtypes\n",
        "bike['ride_length'] = bike['ride_length'].astype(np.float64)\n",
        "print(bike.head())\n",
        "print(bike.dtypes)"
      ]
    },
    {
      "cell_type": "code",
      "execution_count": 18,
      "metadata": {
        "id": "ARYci4b0NCUW"
      },
      "outputs": [],
      "source": [
        "#error's in ride_length \n",
        "sum(bike['ride_length'] < 0)\n",
        "\n",
        "#convert the negative to positive \n",
        "bike['ride_length'] = bike['ride_length'].abs()"
      ]
    },
    {
      "cell_type": "markdown",
      "source": [
        "check if ride_length has no negative number"
      ],
      "metadata": {
        "id": "PYNH1bMsKh8b"
      }
    },
    {
      "cell_type": "code",
      "execution_count": 19,
      "metadata": {
        "colab": {
          "base_uri": "https://localhost:8080/"
        },
        "id": "2wtRYZ7dfXuj",
        "outputId": "a0fb14a8-1671-4911-c1d7-1c5b2d398bfb"
      },
      "outputs": [
        {
          "output_type": "execute_result",
          "data": {
            "text/plain": [
              "0"
            ]
          },
          "metadata": {},
          "execution_count": 19
        }
      ],
      "source": [
        "sum(bike['ride_length'] < 0)\n"
      ]
    },
    {
      "cell_type": "markdown",
      "metadata": {
        "id": "fAIFSEshjOQq"
      },
      "source": [
        "7 -  let's see if more then casual and member in member_casual, and I doing some calculation."
      ]
    },
    {
      "cell_type": "code",
      "execution_count": 20,
      "metadata": {
        "colab": {
          "base_uri": "https://localhost:8080/"
        },
        "id": "yt6gFU-_B5R9",
        "outputId": "7538b85d-2f1d-4cc7-91ae-7f34e1221507"
      },
      "outputs": [
        {
          "output_type": "execute_result",
          "data": {
            "text/plain": [
              "{'casual', 'member'}"
            ]
          },
          "metadata": {},
          "execution_count": 20
        }
      ],
      "source": [
        "# unique the member_casual\n",
        "set(bike['member_casual'])"
      ]
    },
    {
      "cell_type": "markdown",
      "metadata": {
        "id": "RG1Lrw3emJ-e"
      },
      "source": [
        "In member_casual there are two category object, the casual and member.\n",
        "\n",
        "After this long step of processing data, now I can do the analysis step."
      ]
    },
    {
      "cell_type": "markdown",
      "metadata": {
        "id": "S2MgaK6Bqvmm"
      },
      "source": [
        " ## STEP FOUR: ANALYSIS"
      ]
    },
    {
      "cell_type": "markdown",
      "metadata": {
        "id": "3Q6-zEh9rEx8"
      },
      "source": [
        "-Before jumping to the analysis, let's take the summary, structure, number of columns "
      ]
    },
    {
      "cell_type": "code",
      "execution_count": 21,
      "metadata": {
        "colab": {
          "base_uri": "https://localhost:8080/"
        },
        "id": "0k71UgRPq5lQ",
        "outputId": "c02a0e17-9894-4f4b-9d9f-eb5b1f6bc9c0"
      },
      "outputs": [
        {
          "output_type": "stream",
          "name": "stdout",
          "text": [
            "            ride_id  rideable_type          started_at            ended_at  \\\n",
            "0  9DC7B962304CBFD8  electric_bike 2021-09-28 16:07:10 2021-09-28 16:09:54   \n",
            "1  F930E2C6872D6B32  electric_bike 2021-09-28 14:24:51 2021-09-28 14:40:05   \n",
            "2  6EF72137900BB910  electric_bike 2021-09-28 00:20:16 2021-09-28 00:23:57   \n",
            "3  78D1DE133B3DBF55  electric_bike 2021-09-28 14:51:17 2021-09-28 15:00:06   \n",
            "4  E03D4ACDCAEF6E00  electric_bike 2021-09-28 09:53:12 2021-09-28 10:03:44   \n",
            "\n",
            "    start_station_name start_station_id           end_station_name  \\\n",
            "0  Clark St & Grace St     TA1307000127  Desplaines St & Kinzie St   \n",
            "1  Clark St & Grace St     TA1307000127  Desplaines St & Kinzie St   \n",
            "2  Clark St & Grace St     TA1307000127  Desplaines St & Kinzie St   \n",
            "3  Clark St & Grace St     TA1307000127  Desplaines St & Kinzie St   \n",
            "4  Clark St & Grace St     TA1307000127  Desplaines St & Kinzie St   \n",
            "\n",
            "  end_station_id  start_lat  start_lng  ...  member_casual  day      month  \\\n",
            "0   TA1306000003      41.89     -87.68  ...         casual   28  September   \n",
            "1   TA1306000003      41.94     -87.64  ...         casual   28  September   \n",
            "2   TA1306000003      41.81     -87.72  ...         casual   28  September   \n",
            "3   TA1306000003      41.80     -87.72  ...         casual   28  September   \n",
            "4   TA1306000003      41.88     -87.74  ...         casual   28  September   \n",
            "\n",
            "   year day_of_week  hour minute  second  ride_length  ride_lengthMean  \n",
            "0  2021     Tuesday    16      7      10        164.0      1185.211725  \n",
            "1  2021     Tuesday    14     24      51        914.0      1185.211725  \n",
            "2  2021     Tuesday     0     20      16        221.0      1185.211725  \n",
            "3  2021     Tuesday    14     51      17        529.0      1185.211725  \n",
            "4  2021     Tuesday     9     53      12        632.0      1185.211725  \n",
            "\n",
            "[5 rows x 22 columns]\n",
            "          start_lat     start_lng       end_lat       end_lng           day  \\\n",
            "count  5.883043e+06  5.883043e+06  5.883043e+06  5.883043e+06  5.883043e+06   \n",
            "mean   4.190104e+01 -8.764766e+01  4.190129e+01 -8.764787e+01  1.572517e+01   \n",
            "std    4.719795e-02  3.097188e-02  4.730615e-02  3.060118e-02  8.719473e+00   \n",
            "min    4.164000e+01 -8.784000e+01  4.139000e+01 -8.897000e+01  1.000000e+00   \n",
            "25%    4.188103e+01 -8.766201e+01  4.188103e+01 -8.766356e+01  9.000000e+00   \n",
            "50%    4.189993e+01 -8.764377e+01  4.190000e+01 -8.764410e+01  1.600000e+01   \n",
            "75%    4.193000e+01 -8.762930e+01  4.193000e+01 -8.762932e+01  2.300000e+01   \n",
            "max    4.563503e+01 -7.379648e+01  4.237000e+01 -8.750000e+01  3.100000e+01   \n",
            "\n",
            "               year          hour        minute        second   ride_length  \\\n",
            "count  5.883043e+06  5.883043e+06  5.883043e+06  5.883043e+06  5.883043e+06   \n",
            "mean   2.021661e+03  1.422414e+01  2.950921e+01  2.952116e+01  1.185279e+03   \n",
            "std    4.734011e-01  5.033026e+00  1.728415e+01  1.730999e+01  9.628988e+03   \n",
            "min    2.021000e+03  0.000000e+00  0.000000e+00  0.000000e+00  0.000000e+00   \n",
            "25%    2.021000e+03  1.100000e+01  1.500000e+01  1.500000e+01  3.630000e+02   \n",
            "50%    2.022000e+03  1.500000e+01  2.900000e+01  3.000000e+01  6.430000e+02   \n",
            "75%    2.022000e+03  1.800000e+01  4.500000e+01  4.500000e+01  1.160000e+03   \n",
            "max    2.022000e+03  2.300000e+01  5.900000e+01  5.900000e+01  2.442301e+06   \n",
            "\n",
            "       ride_lengthMean  \n",
            "count     5.883043e+06  \n",
            "mean      1.185212e+03  \n",
            "std       2.263981e+03  \n",
            "min      -2.940000e+02  \n",
            "25%       7.105000e+02  \n",
            "50%       9.059500e+02  \n",
            "75%       1.203700e+03  \n",
            "max       1.243909e+05  \n",
            "ride_id                       object\n",
            "rideable_type                 object\n",
            "started_at            datetime64[ns]\n",
            "ended_at              datetime64[ns]\n",
            "start_station_name            object\n",
            "start_station_id              object\n",
            "end_station_name              object\n",
            "end_station_id                object\n",
            "start_lat                    float64\n",
            "start_lng                    float64\n",
            "end_lat                      float64\n",
            "end_lng                      float64\n",
            "member_casual                 object\n",
            "day                            int64\n",
            "month                         object\n",
            "year                           int64\n",
            "day_of_week                   object\n",
            "hour                           int64\n",
            "minute                         int64\n",
            "second                         int64\n",
            "ride_length                  float64\n",
            "ride_lengthMean              float64\n",
            "dtype: object\n",
            "Index(['ride_id', 'rideable_type', 'started_at', 'ended_at',\n",
            "       'start_station_name', 'start_station_id', 'end_station_name',\n",
            "       'end_station_id', 'start_lat', 'start_lng', 'end_lat', 'end_lng',\n",
            "       'member_casual', 'day', 'month', 'year', 'day_of_week', 'hour',\n",
            "       'minute', 'second', 'ride_length', 'ride_lengthMean'],\n",
            "      dtype='object')\n"
          ]
        }
      ],
      "source": [
        "#head, describe(), dtypes, columns\n",
        "print(bike.head())\n",
        "print(bike.describe())\n",
        "print(bike.dtypes)\n",
        "print(bike.columns)"
      ]
    },
    {
      "cell_type": "markdown",
      "metadata": {
        "id": "N44qEbGgtB8x"
      },
      "source": [
        "How many percentage of each category in member_casual "
      ]
    },
    {
      "cell_type": "markdown",
      "metadata": {
        "id": "f_hi6GyuAjNf"
      },
      "source": [
        "convert member_casual to be string datatypes"
      ]
    },
    {
      "cell_type": "code",
      "execution_count": 22,
      "metadata": {
        "id": "S4too632BOhp",
        "colab": {
          "base_uri": "https://localhost:8080/"
        },
        "outputId": "6cf488ce-ebe2-4541-b9f3-d2a46a7826d7"
      },
      "outputs": [
        {
          "output_type": "execute_result",
          "data": {
            "text/plain": [
              "ride_id                       object\n",
              "rideable_type                 object\n",
              "started_at            datetime64[ns]\n",
              "ended_at              datetime64[ns]\n",
              "start_station_name            object\n",
              "start_station_id              object\n",
              "end_station_name              object\n",
              "end_station_id                object\n",
              "start_lat                    float64\n",
              "start_lng                    float64\n",
              "end_lat                      float64\n",
              "end_lng                      float64\n",
              "member_casual               category\n",
              "day                            int64\n",
              "month                         object\n",
              "year                           int64\n",
              "day_of_week                   object\n",
              "hour                           int64\n",
              "minute                         int64\n",
              "second                         int64\n",
              "ride_length                  float64\n",
              "ride_lengthMean              float64\n",
              "dtype: object"
            ]
          },
          "metadata": {},
          "execution_count": 22
        }
      ],
      "source": [
        "#convert to category \n",
        "bike['member_casual'] = bike['member_casual'].astype(\"category\")\n",
        "bike.dtypes"
      ]
    },
    {
      "cell_type": "markdown",
      "source": [
        "the count and the percentage of each category in member_casual"
      ],
      "metadata": {
        "id": "7hitOIHipqUV"
      }
    },
    {
      "cell_type": "code",
      "source": [
        "print(bike['member_casual'].value_counts())\n",
        "print(len(bike['member_casual']))\n",
        "count = bike['member_casual'].value_counts()\n",
        "lenth = len(bike['member_casual'])\n",
        "print((count/lenth)*100)"
      ],
      "metadata": {
        "colab": {
          "base_uri": "https://localhost:8080/"
        },
        "id": "QNWkVb2im6sK",
        "outputId": "839a6812-3b46-4950-88c8-49c6ce93eb44"
      },
      "execution_count": 23,
      "outputs": [
        {
          "output_type": "stream",
          "name": "stdout",
          "text": [
            "member    3414564\n",
            "casual    2468479\n",
            "Name: member_casual, dtype: int64\n",
            "5883043\n",
            "member    58.040779\n",
            "casual    41.959221\n",
            "Name: member_casual, dtype: float64\n"
          ]
        }
      ]
    },
    {
      "cell_type": "markdown",
      "metadata": {
        "id": "I4AYqpaQ40ML"
      },
      "source": [
        "-**FINDING (1)**\n",
        "\n",
        "\n",
        "- In general, in the  above the casual have great (mean, max, sum) values, and they also varied (standard deviation) than members even if the count and percentage of member are more by near to 58% of the member greater than casual, maybe this is because there are a few users casuals (42%) using the bike's for a long ride but they are not a member."
      ]
    },
    {
      "cell_type": "markdown",
      "source": [
        "Using **pivot table** to sumarise the mean, sum, std, max and min "
      ],
      "metadata": {
        "id": "_mGlUHFD9zmF"
      }
    },
    {
      "cell_type": "code",
      "source": [
        "table = pd.pivot_table(bike, values=['ride_length'], index=['member_casual'],\n",
        "                     aggfunc=[np.mean, np.sum, np.std, max, min])\n",
        "print(table)"
      ],
      "metadata": {
        "colab": {
          "base_uri": "https://localhost:8080/"
        },
        "id": "NFJh2IELnpXD",
        "outputId": "ae0b31b0-694e-41c8-da6d-ba4e59cbfa51"
      },
      "execution_count": 24,
      "outputs": [
        {
          "output_type": "stream",
          "name": "stdout",
          "text": [
            "                      mean           sum           std         max         min\n",
            "               ride_length   ride_length   ride_length ride_length ride_length\n",
            "member_casual                                                                 \n",
            "casual         1757.901519  4.339343e+09  14716.900850   2442301.0         0.0\n",
            "member          771.314240  2.633702e+09   1661.414401     93594.0         0.0\n"
          ]
        }
      ]
    },
    {
      "cell_type": "markdown",
      "source": [
        "-**FINDING (2)**\n",
        "- > here in the table above we can take an intuition about why the mean of casual is greater than member but the number of rides is way less than that of the member, that's because the ride length sum of casual(4339343000) is greater of the ride sum of member(2633702000). conversely, the length of rides of casual is less than the ride length of the member, this explains why the mean of the casual ride is greater than that of member.\n"
      ],
      "metadata": {
        "id": "EqsSGDyR-W4o"
      }
    },
    {
      "cell_type": "markdown",
      "source": [
        "**chart(1)**\n",
        "\n",
        "the sum of each member and casual "
      ],
      "metadata": {
        "id": "UoW-L_3KwzER"
      }
    },
    {
      "cell_type": "code",
      "execution_count": 25,
      "metadata": {
        "colab": {
          "base_uri": "https://localhost:8080/",
          "height": 565
        },
        "id": "pQqHGnZ9k1Ci",
        "outputId": "061e26da-c834-44fa-dc11-985f4665e768"
      },
      "outputs": [
        {
          "output_type": "execute_result",
          "data": {
            "text/plain": [
              "[Text(0, 0.5, 'sum of ride length'),\n",
              " Text(0.5, 0, 'member and casual'),\n",
              " Text(0.5, 1.0, 'the sum of each member and casual')]"
            ]
          },
          "metadata": {},
          "execution_count": 25
        },
        {
          "output_type": "display_data",
          "data": {
            "text/plain": [
              "<Figure size 720x576 with 1 Axes>"
            ],
            "image/png": "[encoded data removed]"
          },
          "metadata": {
            "needs_background": "light"
          }
        }
      ],
      "source": [
        "plt.figure(figsize=(10,8))\n",
        "ax = sns.barplot(x='member_casual', \n",
        "            y='ride_length', data=bike, \n",
        "            estimator=sum, palette='viridis')\n",
        "\n",
        "ax.set(title=\"the sum of each member and casual\", xlabel = \"member and casual\", ylabel = \"sum of ride length\")\n"
      ]
    },
    {
      "cell_type": "markdown",
      "source": [
        "-**FINDING (3)**\n",
        "- > As you can see in chart(1)  above, the sum of casual are  more than the sum of casual."
      ],
      "metadata": {
        "id": "DfwPQqzaBs06"
      }
    },
    {
      "cell_type": "markdown",
      "source": [
        "**chart(2)**\n",
        "\n",
        "- the mean of ride length of each member and casual "
      ],
      "metadata": {
        "id": "Qhr5htDRBSw4"
      }
    },
    {
      "cell_type": "code",
      "execution_count": 26,
      "metadata": {
        "colab": {
          "base_uri": "https://localhost:8080/",
          "height": 565
        },
        "id": "q-gT1xcHqBrn",
        "outputId": "bb3b72c8-0117-422f-ac93-14ab49768d1f"
      },
      "outputs": [
        {
          "output_type": "execute_result",
          "data": {
            "text/plain": [
              "[Text(0, 0.5, 'Total ride'),\n",
              " Text(0.5, 0, 'member and casual'),\n",
              " Text(0.5, 1.0, 'The total of ride over the member and casual')]"
            ]
          },
          "metadata": {},
          "execution_count": 26
        },
        {
          "output_type": "display_data",
          "data": {
            "text/plain": [
              "<Figure size 720x576 with 1 Axes>"
            ],
            "image/png": "[encoded data removed]"
          },
          "metadata": {
            "needs_background": "light"
          }
        }
      ],
      "source": [
        "plt.figure(figsize=(10,8))\n",
        "ax = sns.barplot(x='member_casual', \n",
        "                 y='ride_length',  \n",
        "                  data=bike, palette=\"husl\")\n",
        "ax.set(title = \"The total of ride over the member and casual\", xlabel = \"member and casual\", ylabel = \"Total ride\")"
      ]
    },
    {
      "cell_type": "markdown",
      "source": [
        "-**FINDING (4)**\n",
        "\n",
        "- > In chart(2), the mean ride length of the casual is up to 1500, while the member didn't reach 1000.\n"
      ],
      "metadata": {
        "id": "VCs72HXeBYpF"
      }
    },
    {
      "cell_type": "markdown",
      "source": [
        "Now let's see the number of ride length in member and casual at hours"
      ],
      "metadata": {
        "id": "laor_v3fBuR0"
      }
    },
    {
      "cell_type": "code",
      "source": [
        "#the \n",
        "table = bike.groupby(['hour', 'member_casual']).agg({'ride_length':['sum', 'mean']})\n",
        "table.sort_values\n"
      ],
      "metadata": {
        "colab": {
          "base_uri": "https://localhost:8080/"
        },
        "id": "Znk0GSKiqbed",
        "outputId": "bb4c7905-a23c-464d-d018-f708209f373d"
      },
      "execution_count": 27,
      "outputs": [
        {
          "output_type": "execute_result",
          "data": {
            "text/plain": [
              "<bound method DataFrame.sort_values of                     ride_length             \n",
              "                            sum         mean\n",
              "hour member_casual                          \n",
              "0    casual          89613166.0  1800.111807\n",
              "     member          28918606.0   792.051875\n",
              "1    casual          71153342.0  2169.706105\n",
              "     member          18897836.0   832.503789\n",
              "2    casual          47650506.0  2294.640566\n",
              "     member          10642252.0   825.044732\n",
              "3    casual          29671576.0  2448.149835\n",
              "     member           6620405.0   838.875443\n",
              "4    casual          20099725.0  2301.583076\n",
              "     member           7403995.0   813.983619\n",
              "5    casual          18468543.0  1397.121038\n",
              "     member          22255769.0   656.009226\n",
              "6    casual          38989718.0  1333.164125\n",
              "     member          63122792.0   684.732953\n",
              "7    casual          65461521.0  1235.799230\n",
              "     member         124707051.0   711.895756\n",
              "8    casual          94201801.0  1330.740666\n",
              "     member         143511171.0   697.160427\n",
              "9    casual         123162135.0  1585.588019\n",
              "     member         104669111.0   705.279439\n",
              "10   casual         197028081.0  1930.077300\n",
              "     member         106625224.0   753.604388\n",
              "11   casual         254851470.0  1932.156710\n",
              "     member         130556415.0   771.742290\n",
              "12   casual         294087191.0  1902.947342\n",
              "     member         146785007.0   754.962053\n",
              "13   casual         306748264.0  1892.561522\n",
              "     member         145771690.0   761.782698\n",
              "14   casual         321866244.0  1894.300283\n",
              "     member         148628877.0   785.685316\n",
              "15   casual         353661714.0  1893.152512\n",
              "     member         177150278.0   793.285977\n",
              "16   casual         361264347.0  1757.216325\n",
              "     member         236632986.0   805.238377\n",
              "17   casual         376053750.0  1623.903158\n",
              "     member         290209836.0   817.310615\n",
              "18   casual         343865314.0  1639.116409\n",
              "     member         235824140.0   805.534116\n",
              "19   casual         273358126.0  1689.377208\n",
              "     member         167115566.0   793.917034\n",
              "20   casual         204264304.0  1714.518491\n",
              "     member         115554476.0   781.037350\n",
              "21   casual         173682345.0  1701.850424\n",
              "     member          88533971.0   771.914581\n",
              "22   casual         148252673.0  1586.795032\n",
              "     member          67284398.0   766.066628\n",
              "23   casual         131887127.0  1893.026080\n",
              "     member          46279984.0   793.498114>"
            ]
          },
          "metadata": {},
          "execution_count": 27
        }
      ]
    },
    {
      "cell_type": "markdown",
      "source": [
        "**-FINDING (5)**\n",
        "\n",
        "- The sum value of casual is **376053750** at five pm, (**17:00**), and the mean of it is 2448.15 at three am (**3**)\n",
        "- The max vaule of member is **290209836** at five pm (**17:00**), and the mean value of the member is 838.9 , the same as casual at three am (**3**)"
      ],
      "metadata": {
        "id": "H-sdKpo6lylC"
      }
    },
    {
      "cell_type": "markdown",
      "source": [
        "Lets make visual chart of what we say above. \n",
        "by first the mean or the average ride of both member and casual over the hour of a day, then seen the sum ride of each member and casual over hour of a day. \n",
        "\n",
        "chart(3): The average ride of each the member and casual over the hour of day\n"
      ],
      "metadata": {
        "id": "_R5CZtyrqA6M"
      }
    },
    {
      "cell_type": "code",
      "source": [
        "plt.figure(figsize=(10,8))\n",
        "ax = sns.barplot(x='hour', \n",
        "                 y='ride_length', hue='member_casual',  \n",
        "                  data=bike, palette=\"husl\")\n",
        "ax.set(title = \"The average ride of each the member and casual over the hour of day \", \n",
        "       xlabel = \"hour\", ylabel = \"average ride\")"
      ],
      "metadata": {
        "colab": {
          "base_uri": "https://localhost:8080/",
          "height": 565
        },
        "id": "RumwRzcWo-Tj",
        "outputId": "ad0eaa7b-1002-4ee3-f01a-d2bb4ba01b65"
      },
      "execution_count": 28,
      "outputs": [
        {
          "output_type": "execute_result",
          "data": {
            "text/plain": [
              "[Text(0, 0.5, 'average ride'),\n",
              " Text(0.5, 0, 'hour'),\n",
              " Text(0.5, 1.0, 'The average ride of each the member and casual over the hour of day ')]"
            ]
          },
          "metadata": {},
          "execution_count": 28
        },
        {
          "output_type": "display_data",
          "data": {
            "text/plain": [
              "<Figure size 720x576 with 1 Axes>"
            ],
            "image/png": "[encoded data removed]"
          },
          "metadata": {
            "needs_background": "light"
          }
        }
      ]
    },
    {
      "cell_type": "markdown",
      "source": [
        "-**FINDING (6)**\n",
        "- > In the chart(3): there some pickes specaily in 3 am with highest error bars varaition, and that indicate to the high demand from casual customer "
      ],
      "metadata": {
        "id": "dvGc66e9Vy5Q"
      }
    },
    {
      "cell_type": "markdown",
      "source": [
        "chart(4): The sum ride of each the member and casual over the hour of day"
      ],
      "metadata": {
        "id": "e4k9nsOAu8Ie"
      }
    },
    {
      "cell_type": "code",
      "source": [
        "plt.figure(figsize=(10,8))\n",
        "ax = sns.barplot(x='hour', \n",
        "                 y='ride_length', hue='member_casual',  \n",
        "                  data=bike, palette=\"husl\", estimator=sum)\n",
        "ax.set(title = \"The average ride of each the member and casual over the hour of day \", \n",
        "       xlabel = \"hour\", ylabel = \"Total ride\")"
      ],
      "metadata": {
        "colab": {
          "base_uri": "https://localhost:8080/",
          "height": 565
        },
        "id": "Xng-3zrFvSS1",
        "outputId": "11b79d59-fd24-4c08-b409-c8eb0597ea99"
      },
      "execution_count": 29,
      "outputs": [
        {
          "output_type": "execute_result",
          "data": {
            "text/plain": [
              "[Text(0, 0.5, 'Total ride'),\n",
              " Text(0.5, 0, 'hour'),\n",
              " Text(0.5, 1.0, 'The average ride of each the member and casual over the hour of day ')]"
            ]
          },
          "metadata": {},
          "execution_count": 29
        },
        {
          "output_type": "display_data",
          "data": {
            "text/plain": [
              "<Figure size 720x576 with 1 Axes>"
            ],
            "image/png": "[encoded data removed]"
          },
          "metadata": {
            "needs_background": "light"
          }
        }
      ]
    },
    {
      "cell_type": "markdown",
      "source": [
        "-**Finding(7):**\n",
        "\n",
        "- > In the chart(4): the demand keep increasing from 7 am to 8 pm for both member and casual. \n"
      ],
      "metadata": {
        "id": "C-fOlO1BluUs"
      }
    },
    {
      "cell_type": "markdown",
      "source": [
        "-compare the casual and member at weekday "
      ],
      "metadata": {
        "id": "jIqnX7vYoE9X"
      }
    },
    {
      "cell_type": "code",
      "source": [
        "table = bike.groupby(['day_of_week', 'member_casual']).agg({'ride_length':['sum', 'mean']})\n",
        "table.sort_values\n"
      ],
      "metadata": {
        "colab": {
          "base_uri": "https://localhost:8080/"
        },
        "id": "WERHnwF6qul4",
        "outputId": "c00816e7-4614-4e3e-8c85-a2a060db1541"
      },
      "execution_count": 30,
      "outputs": [
        {
          "output_type": "execute_result",
          "data": {
            "text/plain": [
              "<bound method DataFrame.sort_values of                            ride_length             \n",
              "                                   sum         mean\n",
              "day_of_week member_casual                          \n",
              "Friday      casual         579017647.0  1673.330830\n",
              "            member         356813857.0   755.673381\n",
              "Monday      casual         523173875.0  1790.563053\n",
              "            member         354693279.0   747.008915\n",
              "Saturday    casual         980528463.0  1922.363592\n",
              "            member         389591582.0   858.089656\n",
              "Sunday      casual         897296333.0  2051.211536\n",
              "            member         350128314.0   865.529483\n",
              "Thursday    casual         486413798.0  1561.576165\n",
              "            member         390158655.0   742.470613\n",
              "Tuesday     casual         432323426.0  1554.991587\n",
              "            member         392019038.0   730.705354\n",
              "Wednesday   casual         440589441.0  1502.461904\n",
              "            member         400297111.0   731.753756>"
            ]
          },
          "metadata": {},
          "execution_count": 30
        }
      ]
    },
    {
      "cell_type": "markdown",
      "source": [
        "-**Finding(8):**\n",
        "- > the max sum value for casual is 980528463 at Saturday, and mean at 2051.2 at Sunday.\n",
        "-> the max sum value for member is 400297111  in Wednesday and the mean also at Sunday by 865.52\n"
      ],
      "metadata": {
        "id": "QYiMYrlJx_3A"
      }
    },
    {
      "cell_type": "markdown",
      "source": [
        "chart(5): The average ride of each the member and casual over the days of week "
      ],
      "metadata": {
        "id": "4aREKSP_5qde"
      }
    },
    {
      "cell_type": "code",
      "source": [
        "plt.figure(figsize=(10,8))\n",
        "ax = sns.barplot(x='day_of_week', \n",
        "                 y='ride_length', hue='member_casual',  \n",
        "                  data=bike, palette=\"tab10\")\n",
        "ax.set(title = \"The average ride of each the member and casual over the day  of week\", \n",
        "       xlabel = \"day of week\", ylabel = \"avreage ride\")"
      ],
      "metadata": {
        "colab": {
          "base_uri": "https://localhost:8080/",
          "height": 565
        },
        "id": "eegTVHt7tC26",
        "outputId": "5562d190-b9f7-4cf2-9960-b959aa626300"
      },
      "execution_count": 31,
      "outputs": [
        {
          "output_type": "execute_result",
          "data": {
            "text/plain": [
              "[Text(0, 0.5, 'avreage ride'),\n",
              " Text(0.5, 0, 'day of week'),\n",
              " Text(0.5, 1.0, 'The average ride of each the member and casual over the day  of week')]"
            ]
          },
          "metadata": {},
          "execution_count": 31
        },
        {
          "output_type": "display_data",
          "data": {
            "text/plain": [
              "<Figure size 720x576 with 1 Axes>"
            ],
            "image/png": "[encoded data removed]"
          },
          "metadata": {
            "needs_background": "light"
          }
        }
      ]
    },
    {
      "cell_type": "markdown",
      "source": [
        "-**Finding(9):**\n",
        "- > the memeber didn't exceed the mean of 1000 through out all seven days \n",
        "- > the casual are more varied secailly in sunday "
      ],
      "metadata": {
        "id": "-K17GxBL-dig"
      }
    },
    {
      "cell_type": "markdown",
      "source": [
        "chart(6): The sum ride of each the member and casual over the days of week."
      ],
      "metadata": {
        "id": "M_Xtl93eARS9"
      }
    },
    {
      "cell_type": "code",
      "source": [
        "plt.figure(figsize=(10,8))\n",
        "ax = sns.barplot(x='day_of_week', \n",
        "                 y='ride_length', hue='member_casual',  \n",
        "                  data=bike, palette=\"tab10\", estimator=sum)\n",
        "ax.set(title = \"The total ride of each the member and casual over the day  of week\", \n",
        "       xlabel = \"day of week\", ylabel = \"Total ride\")"
      ],
      "metadata": {
        "colab": {
          "base_uri": "https://localhost:8080/",
          "height": 565
        },
        "id": "I7N8wSXU9LdC",
        "outputId": "399e463e-fdf0-46d6-c2e4-70df01d26aaa"
      },
      "execution_count": 32,
      "outputs": [
        {
          "output_type": "execute_result",
          "data": {
            "text/plain": [
              "[Text(0, 0.5, 'Total ride'),\n",
              " Text(0.5, 0, 'day of week'),\n",
              " Text(0.5, 1.0, 'The total ride of each the member and casual over the day  of week')]"
            ]
          },
          "metadata": {},
          "execution_count": 32
        },
        {
          "output_type": "display_data",
          "data": {
            "text/plain": [
              "<Figure size 720x576 with 1 Axes>"
            ],
            "image/png": "[encoded data removed]"
          },
          "metadata": {
            "needs_background": "light"
          }
        }
      ]
    },
    {
      "cell_type": "markdown",
      "source": [
        "-**Finding(10)**\n",
        "- > as you can see the chart(5) the highest value of ride are in Saturday and for casual, and wednesday for member \n"
      ],
      "metadata": {
        "id": "HL3cRZv2IjSW"
      }
    },
    {
      "cell_type": "markdown",
      "source": [
        "##### let's see how the member and casual are behave differently in days \n"
      ],
      "metadata": {
        "id": "-46-CeE8M0ba"
      }
    },
    {
      "cell_type": "code",
      "source": [
        "table = bike.groupby(['day', 'member_casual']).agg({'ride_length':['sum',  'mean']})\n"
      ],
      "metadata": {
        "id": "7C1Xr0MBNDW4"
      },
      "execution_count": 33,
      "outputs": []
    },
    {
      "cell_type": "markdown",
      "source": [
        "-Finding(11): \n",
        "\n",
        " - The sum value  of causal is 195326017.0 located in day 10 , and the mean of it is 2009.04 in day five.\n",
        " - Day 12 is highest sum value for member is 102655507.0\tand thier greater mean is 803.23 located in day five  \n",
        "\n"
      ],
      "metadata": {
        "id": "lj-xabtHTjbx"
      }
    },
    {
      "cell_type": "markdown",
      "source": [
        "chart(7): The total ride of each the member and casual over the days\n"
      ],
      "metadata": {
        "id": "ryC9ombSYtr1"
      }
    },
    {
      "cell_type": "code",
      "source": [
        "plt.figure(figsize=(10,8))\n",
        "ax = sns.barplot(x='day', \n",
        "                 y='ride_length', hue='member_casual',  \n",
        "                  data=bike, palette=\"tab10\")\n",
        "ax.set(title = \"The average ride of each the member and casual over the days\", \n",
        "       xlabel = \"days\", ylabel = \"avreage ride\")"
      ],
      "metadata": {
        "colab": {
          "base_uri": "https://localhost:8080/",
          "height": 565
        },
        "id": "kofDsSiCQAYG",
        "outputId": "e5f92b11-5921-4fa5-c351-2d8df59e3c35"
      },
      "execution_count": 34,
      "outputs": [
        {
          "output_type": "execute_result",
          "data": {
            "text/plain": [
              "[Text(0, 0.5, 'avreage ride'),\n",
              " Text(0.5, 0, 'days'),\n",
              " Text(0.5, 1.0, 'The average ride of each the member and casual over the days')]"
            ]
          },
          "metadata": {},
          "execution_count": 34
        },
        {
          "output_type": "display_data",
          "data": {
            "text/plain": [
              "<Figure size 720x576 with 1 Axes>"
            ],
            "image/png": "[encoded data removed]"
          },
          "metadata": {
            "needs_background": "light"
          }
        }
      ]
    },
    {
      "cell_type": "markdown",
      "source": [
        "-chart(8): The total ride of each the member and casual over the days\n",
        "\n",
        "\n"
      ],
      "metadata": {
        "id": "UKKO-2GNZNRP"
      }
    },
    {
      "cell_type": "code",
      "source": [
        "plt.figure(figsize=(10,8))\n",
        "ax = sns.barplot(x='day', \n",
        "                 y='ride_length', hue='member_casual',  \n",
        "                  data=bike, palette=\"tab10\", estimator=sum)\n",
        "\n",
        "ax.set(title = \"The total ride of each the member and casual over the days\", \n",
        "       xlabel = \"days\", ylabel = \"total ride\")"
      ],
      "metadata": {
        "colab": {
          "base_uri": "https://localhost:8080/",
          "height": 565
        },
        "id": "CygR1H-lacpR",
        "outputId": "22fadc83-2fcf-4a69-c7f1-902cae528590"
      },
      "execution_count": 35,
      "outputs": [
        {
          "output_type": "execute_result",
          "data": {
            "text/plain": [
              "[Text(0, 0.5, 'total ride'),\n",
              " Text(0.5, 0, 'days'),\n",
              " Text(0.5, 1.0, 'The total ride of each the member and casual over the days')]"
            ]
          },
          "metadata": {},
          "execution_count": 35
        },
        {
          "output_type": "display_data",
          "data": {
            "text/plain": [
              "<Figure size 720x576 with 1 Axes>"
            ],
            "image/png": "[encoded data removed]"
          },
          "metadata": {
            "needs_background": "light"
          }
        }
      ]
    },
    {
      "cell_type": "markdown",
      "source": [
        "let's see the behaviour of member and casual in months "
      ],
      "metadata": {
        "id": "Ip8k1OvfarOo"
      }
    },
    {
      "cell_type": "code",
      "source": [
        "table = bike.groupby(['month', 'member_casual']).agg({'ride_length':['sum', 'mean']})\n",
        "table.sort_values"
      ],
      "metadata": {
        "colab": {
          "base_uri": "https://localhost:8080/"
        },
        "id": "Y9-hGgLDao4l",
        "outputId": "cb1c4d61-425d-4fd0-d0f2-66ec1241bc4f"
      },
      "execution_count": 36,
      "outputs": [
        {
          "output_type": "execute_result",
          "data": {
            "text/plain": [
              "<bound method DataFrame.sort_values of                          ride_length             \n",
              "                                 sum         mean\n",
              "month     member_casual                          \n",
              "April     casual         224004050.0  1771.945624\n",
              "          member         168822497.0   689.544247\n",
              "August    casual         631206095.0  1758.606543\n",
              "          member         342910399.0   803.053805\n",
              "December  casual          98306691.0  1409.657446\n",
              "          member         117402011.0   660.296346\n",
              "February  casual          34319291.0  1602.507051\n",
              "          member          64459262.0   684.331766\n",
              "January   casual          33755428.0  1822.647300\n",
              "          member          61285423.0   718.890592\n",
              "July      casual         713316133.0  1756.698312\n",
              "          member         343592953.0   823.109225\n",
              "June      casual         710814978.0  1926.061650\n",
              "          member         336122603.0   839.985213\n",
              "March     casual         175930668.0  1957.351505\n",
              "          member         139309748.0   717.499732\n",
              "May       casual         519378154.0  1852.176788\n",
              "          member         284263503.0   802.000612\n",
              "November  casual         148446469.0  1388.271367\n",
              "          member         171746973.0   678.710341\n",
              "October   casual         442568951.0  1720.438152\n",
              "          member         280534421.0   750.124126\n",
              "September casual         607296075.0  1668.900148\n",
              "          member         323252043.0   824.082280>"
            ]
          },
          "metadata": {},
          "execution_count": 36
        }
      ]
    },
    {
      "cell_type": "markdown",
      "source": [
        "- > the sum value for casual is 713316133 located in July, and mean is 1957.35 located at March.\n",
        "- > the sum value for member is 343592953.0 in July, and thier mean is 839.98 at June"
      ],
      "metadata": {
        "id": "AM3DDkPLejNL"
      }
    },
    {
      "cell_type": "markdown",
      "source": [
        "- chart(9): The averge ride of each the member and casual over the Months\n",
        "\n",
        "\n"
      ],
      "metadata": {
        "id": "ty7g0BtIhVJh"
      }
    },
    {
      "cell_type": "code",
      "source": [
        "plt.figure(figsize=(10,8))\n",
        "ax = sns.barplot(x='month', \n",
        "                 y='ride_length', hue='member_casual',  \n",
        "                  data=bike, palette=\"tab10\",)\n",
        "\n",
        "ax.set(title = \"The averge ride of each the member and casual over the Months\", \n",
        "       xlabel = \"months\", ylabel = \"average ride\")"
      ],
      "metadata": {
        "colab": {
          "base_uri": "https://localhost:8080/",
          "height": 565
        },
        "id": "-GE2tj0pef-n",
        "outputId": "858e365d-db07-46b0-a0b4-dc5e2bf10eb7"
      },
      "execution_count": 37,
      "outputs": [
        {
          "output_type": "execute_result",
          "data": {
            "text/plain": [
              "[Text(0, 0.5, 'average ride'),\n",
              " Text(0.5, 0, 'months'),\n",
              " Text(0.5, 1.0, 'The averge ride of each the member and casual over the Months')]"
            ]
          },
          "metadata": {},
          "execution_count": 37
        },
        {
          "output_type": "display_data",
          "data": {
            "text/plain": [
              "<Figure size 720x576 with 1 Axes>"
            ],
            "image/png": "[encoded data removed]"
          },
          "metadata": {
            "needs_background": "light"
          }
        }
      ]
    },
    {
      "cell_type": "markdown",
      "source": [
        "chart(10): The Total ride  of each the member and casual over the Months\n"
      ],
      "metadata": {
        "id": "bgY8lEgWkaQw"
      }
    },
    {
      "cell_type": "code",
      "source": [
        "plt.figure(figsize=(10,8))\n",
        "ax = sns.barplot(x='month', \n",
        "                 y='ride_length', hue='member_casual',  \n",
        "                  data=bike, palette=\"tab10\", estimator=sum)\n",
        "\n",
        "ax.set(title = \"The sum ride of each the member and casual over the Months\", \n",
        "       xlabel = \"months\", ylabel = \"average ride\")"
      ],
      "metadata": {
        "colab": {
          "base_uri": "https://localhost:8080/",
          "height": 565
        },
        "id": "VX5DrXn6kd_Y",
        "outputId": "ad06dc4b-0575-45aa-83c2-067277c8c401"
      },
      "execution_count": 38,
      "outputs": [
        {
          "output_type": "execute_result",
          "data": {
            "text/plain": [
              "[Text(0, 0.5, 'average ride'),\n",
              " Text(0.5, 0, 'months'),\n",
              " Text(0.5, 1.0, 'The sum ride of each the member and casual over the Months')]"
            ]
          },
          "metadata": {},
          "execution_count": 38
        },
        {
          "output_type": "display_data",
          "data": {
            "text/plain": [
              "<Figure size 720x576 with 1 Axes>"
            ],
            "image/png": "[encoded data removed]"
          },
          "metadata": {
            "needs_background": "light"
          }
        }
      ]
    },
    {
      "cell_type": "markdown",
      "source": [
        "*RECOMMENDATIONS**\n",
        "-Based on the findings \n",
        "- > first thing of my recommendations is we need to do more surveys on times that the casual is more or equal to member because it is important to know why some casual users didn't prefer to be casual \n",
        "- > we need to do some marketing campings at times that there huge demand by casual \n",
        "- > offer some discount for the membership especially for long rides and during summer and increasing the cost of casual for the long ride"
      ],
      "metadata": {
        "id": "XDXIGkJM_fl0"
      }
    },
    {
      "cell_type": "markdown",
      "source": [
        "EXPORT SUMMARY FILE FOR FURTHER ANALYSIS\n"
      ],
      "metadata": {
        "id": "owFNMcnUWtPP"
      }
    },
    {
      "cell_type": "code",
      "source": [
        "bike.head()"
      ],
      "metadata": {
        "colab": {
          "base_uri": "https://localhost:8080/",
          "height": 473
        },
        "id": "WmlZZ9q0WvXj",
        "outputId": "3b7e941b-98bf-4c4b-c74d-121c2a59b318"
      },
      "execution_count": null,
      "outputs": [
        {
          "output_type": "execute_result",
          "data": {
            "text/plain": [
              "            ride_id  rideable_type          started_at            ended_at  \\\n",
              "0  9DC7B962304CBFD8  electric_bike 2021-09-28 16:07:10 2021-09-28 16:09:54   \n",
              "1  F930E2C6872D6B32  electric_bike 2021-09-28 14:24:51 2021-09-28 14:40:05   \n",
              "2  6EF72137900BB910  electric_bike 2021-09-28 00:20:16 2021-09-28 00:23:57   \n",
              "3  78D1DE133B3DBF55  electric_bike 2021-09-28 14:51:17 2021-09-28 15:00:06   \n",
              "4  E03D4ACDCAEF6E00  electric_bike 2021-09-28 09:53:12 2021-09-28 10:03:44   \n",
              "\n",
              "    start_station_name start_station_id           end_station_name  \\\n",
              "0  Clark St & Grace St     TA1307000127  Desplaines St & Kinzie St   \n",
              "1  Clark St & Grace St     TA1307000127  Desplaines St & Kinzie St   \n",
              "2  Clark St & Grace St     TA1307000127  Desplaines St & Kinzie St   \n",
              "3  Clark St & Grace St     TA1307000127  Desplaines St & Kinzie St   \n",
              "4  Clark St & Grace St     TA1307000127  Desplaines St & Kinzie St   \n",
              "\n",
              "  end_station_id  start_lat  start_lng  ...  member_casual  day month  year  \\\n",
              "0   TA1306000003      41.89     -87.68  ...         casual   28     9  2021   \n",
              "1   TA1306000003      41.94     -87.64  ...         casual   28     9  2021   \n",
              "2   TA1306000003      41.81     -87.72  ...         casual   28     9  2021   \n",
              "3   TA1306000003      41.80     -87.72  ...         casual   28     9  2021   \n",
              "4   TA1306000003      41.88     -87.74  ...         casual   28     9  2021   \n",
              "\n",
              "   day_of_week  hour minute  second  ride_length  ride_lengthMean  \n",
              "0      Tuesday    16      7      10        164.0      1185.211725  \n",
              "1      Tuesday    14     24      51        914.0      1185.211725  \n",
              "2      Tuesday     0     20      16        221.0      1185.211725  \n",
              "3      Tuesday    14     51      17        529.0      1185.211725  \n",
              "4      Tuesday     9     53      12        632.0      1185.211725  \n",
              "\n",
              "[5 rows x 22 columns]"
            ],
            "text/html": [
              "\n",
              "  <div id=\"df-06ef0824-d7b5-45d6-99cc-424b7e49137b\">\n",
              "    <div class=\"colab-df-container\">\n",
              "      <div>\n",
              "<style scoped>\n",
              "    .dataframe tbody tr th:only-of-type {\n",
              "        vertical-align: middle;\n",
              "    }\n",
              "\n",
              "    .dataframe tbody tr th {\n",
              "        vertical-align: top;\n",
              "    }\n",
              "\n",
              "    .dataframe thead th {\n",
              "        text-align: right;\n",
              "    }\n",
              "</style>\n",
              "<table border=\"1\" class=\"dataframe\">\n",
              "  <thead>\n",
              "    <tr style=\"text-align: right;\">\n",
              "      <th></th>\n",
              "      <th>ride_id</th>\n",
              "      <th>rideable_type</th>\n",
              "      <th>started_at</th>\n",
              "      <th>ended_at</th>\n",
              "      <th>start_station_name</th>\n",
              "      <th>start_station_id</th>\n",
              "      <th>end_station_name</th>\n",
              "      <th>end_station_id</th>\n",
              "      <th>start_lat</th>\n",
              "      <th>start_lng</th>\n",
              "      <th>...</th>\n",
              "      <th>member_casual</th>\n",
              "      <th>day</th>\n",
              "      <th>month</th>\n",
              "      <th>year</th>\n",
              "      <th>day_of_week</th>\n",
              "      <th>hour</th>\n",
              "      <th>minute</th>\n",
              "      <th>second</th>\n",
              "      <th>ride_length</th>\n",
              "      <th>ride_lengthMean</th>\n",
              "    </tr>\n",
              "  </thead>\n",
              "  <tbody>\n",
              "    <tr>\n",
              "      <th>0</th>\n",
              "      <td>9DC7B962304CBFD8</td>\n",
              "      <td>electric_bike</td>\n",
              "      <td>2021-09-28 16:07:10</td>\n",
              "      <td>2021-09-28 16:09:54</td>\n",
              "      <td>Clark St &amp; Grace St</td>\n",
              "      <td>TA1307000127</td>\n",
              "      <td>Desplaines St &amp; Kinzie St</td>\n",
              "      <td>TA1306000003</td>\n",
              "      <td>41.89</td>\n",
              "      <td>-87.68</td>\n",
              "      <td>...</td>\n",
              "      <td>casual</td>\n",
              "      <td>28</td>\n",
              "      <td>9</td>\n",
              "      <td>2021</td>\n",
              "      <td>Tuesday</td>\n",
              "      <td>16</td>\n",
              "      <td>7</td>\n",
              "      <td>10</td>\n",
              "      <td>164.0</td>\n",
              "      <td>1185.211725</td>\n",
              "    </tr>\n",
              "    <tr>\n",
              "      <th>1</th>\n",
              "      <td>F930E2C6872D6B32</td>\n",
              "      <td>electric_bike</td>\n",
              "      <td>2021-09-28 14:24:51</td>\n",
              "      <td>2021-09-28 14:40:05</td>\n",
              "      <td>Clark St &amp; Grace St</td>\n",
              "      <td>TA1307000127</td>\n",
              "      <td>Desplaines St &amp; Kinzie St</td>\n",
              "      <td>TA1306000003</td>\n",
              "      <td>41.94</td>\n",
              "      <td>-87.64</td>\n",
              "      <td>...</td>\n",
              "      <td>casual</td>\n",
              "      <td>28</td>\n",
              "      <td>9</td>\n",
              "      <td>2021</td>\n",
              "      <td>Tuesday</td>\n",
              "      <td>14</td>\n",
              "      <td>24</td>\n",
              "      <td>51</td>\n",
              "      <td>914.0</td>\n",
              "      <td>1185.211725</td>\n",
              "    </tr>\n",
              "    <tr>\n",
              "      <th>2</th>\n",
              "      <td>6EF72137900BB910</td>\n",
              "      <td>electric_bike</td>\n",
              "      <td>2021-09-28 00:20:16</td>\n",
              "      <td>2021-09-28 00:23:57</td>\n",
              "      <td>Clark St &amp; Grace St</td>\n",
              "      <td>TA1307000127</td>\n",
              "      <td>Desplaines St &amp; Kinzie St</td>\n",
              "      <td>TA1306000003</td>\n",
              "      <td>41.81</td>\n",
              "      <td>-87.72</td>\n",
              "      <td>...</td>\n",
              "      <td>casual</td>\n",
              "      <td>28</td>\n",
              "      <td>9</td>\n",
              "      <td>2021</td>\n",
              "      <td>Tuesday</td>\n",
              "      <td>0</td>\n",
              "      <td>20</td>\n",
              "      <td>16</td>\n",
              "      <td>221.0</td>\n",
              "      <td>1185.211725</td>\n",
              "    </tr>\n",
              "    <tr>\n",
              "      <th>3</th>\n",
              "      <td>78D1DE133B3DBF55</td>\n",
              "      <td>electric_bike</td>\n",
              "      <td>2021-09-28 14:51:17</td>\n",
              "      <td>2021-09-28 15:00:06</td>\n",
              "      <td>Clark St &amp; Grace St</td>\n",
              "      <td>TA1307000127</td>\n",
              "      <td>Desplaines St &amp; Kinzie St</td>\n",
              "      <td>TA1306000003</td>\n",
              "      <td>41.80</td>\n",
              "      <td>-87.72</td>\n",
              "      <td>...</td>\n",
              "      <td>casual</td>\n",
              "      <td>28</td>\n",
              "      <td>9</td>\n",
              "      <td>2021</td>\n",
              "      <td>Tuesday</td>\n",
              "      <td>14</td>\n",
              "      <td>51</td>\n",
              "      <td>17</td>\n",
              "      <td>529.0</td>\n",
              "      <td>1185.211725</td>\n",
              "    </tr>\n",
              "    <tr>\n",
              "      <th>4</th>\n",
              "      <td>E03D4ACDCAEF6E00</td>\n",
              "      <td>electric_bike</td>\n",
              "      <td>2021-09-28 09:53:12</td>\n",
              "      <td>2021-09-28 10:03:44</td>\n",
              "      <td>Clark St &amp; Grace St</td>\n",
              "      <td>TA1307000127</td>\n",
              "      <td>Desplaines St &amp; Kinzie St</td>\n",
              "      <td>TA1306000003</td>\n",
              "      <td>41.88</td>\n",
              "      <td>-87.74</td>\n",
              "      <td>...</td>\n",
              "      <td>casual</td>\n",
              "      <td>28</td>\n",
              "      <td>9</td>\n",
              "      <td>2021</td>\n",
              "      <td>Tuesday</td>\n",
              "      <td>9</td>\n",
              "      <td>53</td>\n",
              "      <td>12</td>\n",
              "      <td>632.0</td>\n",
              "      <td>1185.211725</td>\n",
              "    </tr>\n",
              "  </tbody>\n",
              "</table>\n",
              "<p>5 rows × 22 columns</p>\n",
              "</div>\n",
              "      <button class=\"colab-df-convert\" onclick=\"convertToInteractive('df-06ef0824-d7b5-45d6-99cc-424b7e49137b')\"\n",
              "              title=\"Convert this dataframe to an interactive table.\"\n",
              "              style=\"display:none;\">\n",
              "        \n",
              "  <svg xmlns=\"http://www.w3.org/2000/svg\" height=\"24px\"viewBox=\"0 0 24 24\"\n",
              "       width=\"24px\">\n",
              "    <path d=\"M0 0h24v24H0V0z\" fill=\"none\"/>\n",
              "    <path d=\"M18.56 5.44l.94 2.06.94-2.06 2.06-.94-2.06-.94-.94-2.06-.94 2.06-2.06.94zm-11 1L8.5 8.5l.94-2.06 2.06-.94-2.06-.94L8.5 2.5l-.94 2.06-2.06.94zm10 10l.94 2.06.94-2.06 2.06-.94-2.06-.94-.94-2.06-.94 2.06-2.06.94z\"/><path d=\"M17.41 7.96l-1.37-1.37c-.4-.4-.92-.59-1.43-.59-.52 0-1.04.2-1.43.59L10.3 9.45l-7.72 7.72c-.78.78-.78 2.05 0 2.83L4 21.41c.39.39.9.59 1.41.59.51 0 1.02-.2 1.41-.59l7.78-7.78 2.81-2.81c.8-.78.8-2.07 0-2.86zM5.41 20L4 18.59l7.72-7.72 1.47 1.35L5.41 20z\"/>\n",
              "  </svg>\n",
              "      </button>\n",
              "      \n",
              "  <style>\n",
              "    .colab-df-container {\n",
              "      display:flex;\n",
              "      flex-wrap:wrap;\n",
              "      gap: 12px;\n",
              "    }\n",
              "\n",
              "    .colab-df-convert {\n",
              "      background-color: #E8F0FE;\n",
              "      border: none;\n",
              "      border-radius: 50%;\n",
              "      cursor: pointer;\n",
              "      display: none;\n",
              "      fill: #1967D2;\n",
              "      height: 32px;\n",
              "      padding: 0 0 0 0;\n",
              "      width: 32px;\n",
              "    }\n",
              "\n",
              "    .colab-df-convert:hover {\n",
              "      background-color: #E2EBFA;\n",
              "      box-shadow: 0px 1px 2px rgba(60, 64, 67, 0.3), 0px 1px 3px 1px rgba(60, 64, 67, 0.15);\n",
              "      fill: #174EA6;\n",
              "    }\n",
              "\n",
              "    [theme=dark] .colab-df-convert {\n",
              "      background-color: #3B4455;\n",
              "      fill: #D2E3FC;\n",
              "    }\n",
              "\n",
              "    [theme=dark] .colab-df-convert:hover {\n",
              "      background-color: #434B5C;\n",
              "      box-shadow: 0px 1px 3px 1px rgba(0, 0, 0, 0.15);\n",
              "      filter: drop-shadow(0px 1px 2px rgba(0, 0, 0, 0.3));\n",
              "      fill: #FFFFFF;\n",
              "    }\n",
              "  </style>\n",
              "\n",
              "      <script>\n",
              "        const buttonEl =\n",
              "          document.querySelector('#df-06ef0824-d7b5-45d6-99cc-424b7e49137b button.colab-df-convert');\n",
              "        buttonEl.style.display =\n",
              "          google.colab.kernel.accessAllowed ? 'block' : 'none';\n",
              "\n",
              "        async function convertToInteractive(key) {\n",
              "          const element = document.querySelector('#df-06ef0824-d7b5-45d6-99cc-424b7e49137b');\n",
              "          const dataTable =\n",
              "            await google.colab.kernel.invokeFunction('convertToInteractive',\n",
              "                                                     [key], {});\n",
              "          if (!dataTable) return;\n",
              "\n",
              "          const docLinkHtml = 'Like what you see? Visit the ' +\n",
              "            '<a target=\"_blank\" href=https://colab.research.google.com/notebooks/data_table.ipynb>data table notebook</a>'\n",
              "            + ' to learn more about interactive tables.';\n",
              "          element.innerHTML = '';\n",
              "          dataTable['output_type'] = 'display_data';\n",
              "          await google.colab.output.renderOutput(dataTable, element);\n",
              "          const docLink = document.createElement('div');\n",
              "          docLink.innerHTML = docLinkHtml;\n",
              "          element.appendChild(docLink);\n",
              "        }\n",
              "      </script>\n",
              "    </div>\n",
              "  </div>\n",
              "  "
            ]
          },
          "metadata": {},
          "execution_count": 26
        }
      ]
    },
    {
      "cell_type": "code",
      "source": [
        "week = bike.groupby(['member_casual','day_of_week'])['ride_length'].agg(['mean', 'sum'])\n",
        "day = bike.groupby(['member_casual','day'])['ride_length'].agg(['mean', 'sum'])\n",
        "month = bike.groupby(['member_casual','month'])['ride_length'].agg(['mean', 'sum'])\n",
        "hour = bike.groupby(['member_casual','hour'])['ride_length'].agg(['mean', 'sum'])\n",
        "\n",
        "week.to_csv('bike_week.csv', index=False)\n",
        "day.to_csv('bike_day.csv', index=False)\n",
        "month.to_csv('bike_month.csv', index=False)\n",
        "hour.to_csv('bike_hour.csv', index=False)"
      ],
      "metadata": {
        "id": "s5wSRPrPXPmb"
      },
      "execution_count": null,
      "outputs": []
    },
    {
      "cell_type": "code",
      "source": [
        "bike.columns\n"
      ],
      "metadata": {
        "colab": {
          "base_uri": "https://localhost:8080/"
        },
        "id": "X3i2CwZXZnIv",
        "outputId": "6be76f64-65c1-48cc-cf13-9047e4407de0"
      },
      "execution_count": null,
      "outputs": [
        {
          "output_type": "execute_result",
          "data": {
            "text/plain": [
              "Index(['ride_id', 'rideable_type', 'started_at', 'ended_at',\n",
              "       'start_station_name', 'start_station_id', 'end_station_name',\n",
              "       'end_station_id', 'start_lat', 'start_lng', 'end_lat', 'end_lng',\n",
              "       'member_casual', 'day', 'month', 'year', 'day_of_week', 'hour',\n",
              "       'minute', 'second', 'ride_length', 'ride_lengthMean'],\n",
              "      dtype='object')"
            ]
          },
          "metadata": {},
          "execution_count": 30
        }
      ]
    },
    {
      "cell_type": "code",
      "source": [],
      "metadata": {
        "id": "LtIFMS5qZpA5"
      },
      "execution_count": null,
      "outputs": []
    }
  ],
  "metadata": {
    "colab": {
      "provenance": [],
      "toc_visible": true
    },
    "kernelspec": {
      "display_name": "Python 3",
      "name": "python3"
    },
    "language_info": {
      "name": "python"
    }
  },
  "nbformat": 4,
  "nbformat_minor": 0
}